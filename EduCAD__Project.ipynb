{
  "nbformat": 4,
  "nbformat_minor": 0,
  "metadata": {
    "colab": {
      "name": "EduCAD _Project.ipynb",
      "provenance": [],
      "collapsed_sections": []
    },
    "kernelspec": {
      "name": "python3",
      "display_name": "Python 3"
    },
    "language_info": {
      "name": "python"
    }
  },
  "cells": [
    {
      "cell_type": "code",
      "execution_count": 86,
      "metadata": {
        "id": "hqPNQ3slNhdL"
      },
      "outputs": [],
      "source": [
        "import pandas as pd"
      ]
    },
    {
      "cell_type": "markdown",
      "source": [
        "# Data Description\n",
        "This data set contains temperature points at known distances from a 150 mm by 150 mm heater mat. For use in detecting interlaminate delaminations within a Carbon Fibre Resin Polymer panel.\n",
        "\n",
        "Temp Change ∘ C = The change in degrees Celsius from the starting temperature of the sample.\n",
        "\n",
        "x_heat_dist = The distance in mm from the centre of the 150 mm by 150 mm square heater mat in the x axis.\n",
        "\n",
        "y_heat_dist = The distance in mm from the centre of the 150 mm by 150 mm square heater mat in the y axis.\n",
        "\n",
        "defect: If a defect is present: '0' - no defect; '1' - delamination, outer area; '2' - delamination, centre, '3' - no defect with defect between centre of heater mat and probe.\n",
        "\n",
        "Time: time in seconds from start."
      ],
      "metadata": {
        "id": "cefHJzBjT8Ml"
      }
    },
    {
      "cell_type": "code",
      "source": [
        "Data = pd.read_csv(\"/content/all_features_140_balanced.csv\")"
      ],
      "metadata": {
        "id": "5Or91pblOQAW"
      },
      "execution_count": 87,
      "outputs": []
    },
    {
      "cell_type": "code",
      "source": [
        "Data.shape"
      ],
      "metadata": {
        "colab": {
          "base_uri": "https://localhost:8080/"
        },
        "id": "QGy4-b1eOVmw",
        "outputId": "b22b314b-db92-4e9d-a5c4-73ff774ec7f4"
      },
      "execution_count": 88,
      "outputs": [
        {
          "output_type": "execute_result",
          "data": {
            "text/plain": [
              "(107442, 13)"
            ]
          },
          "metadata": {},
          "execution_count": 88
        }
      ]
    },
    {
      "cell_type": "code",
      "source": [
        "Data.head()"
      ],
      "metadata": {
        "colab": {
          "base_uri": "https://localhost:8080/",
          "height": 206
        },
        "id": "ehdX2S_UOX-y",
        "outputId": "a615b08f-4630-4a35-c5c1-9115dd9eccd8"
      },
      "execution_count": 89,
      "outputs": [
        {
          "output_type": "execute_result",
          "data": {
            "text/plain": [
              "   Temp Change $^{\\circ}$C  Time (s)  x_heat_dist  y_heat_dist   std_140  \\\n",
              "0                      0.1        20         75.0          0.0  6.068788   \n",
              "1                      0.1        21         75.0          0.0  6.068788   \n",
              "2                      0.2        22         75.0          0.0  6.068788   \n",
              "3                      0.2        23         75.0          0.0  6.068788   \n",
              "4                      0.2        24         75.0          0.0  6.068788   \n",
              "\n",
              "       mean  median  heat_mat_temp  amb_1  amb_2  amb_3  defect  \\\n",
              "0  0.218182     0.1           29.8   24.5   24.3   24.2       0   \n",
              "1  0.265455     0.1           30.5   24.5   24.3   24.2       0   \n",
              "2  0.309091     0.1           31.0   24.5   24.3   24.2       0   \n",
              "3  0.369091     0.1           31.5   24.5   24.3   24.2       0   \n",
              "4  0.438182     0.1           32.1   24.5   24.3   24.2       0   \n",
              "\n",
              "             State  \n",
              "0  No Delamination  \n",
              "1  No Delamination  \n",
              "2  No Delamination  \n",
              "3  No Delamination  \n",
              "4  No Delamination  "
            ],
            "text/html": [
              "\n",
              "  <div id=\"df-6dfa41ee-fce5-41e9-903c-5b10df3ca41a\">\n",
              "    <div class=\"colab-df-container\">\n",
              "      <div>\n",
              "<style scoped>\n",
              "    .dataframe tbody tr th:only-of-type {\n",
              "        vertical-align: middle;\n",
              "    }\n",
              "\n",
              "    .dataframe tbody tr th {\n",
              "        vertical-align: top;\n",
              "    }\n",
              "\n",
              "    .dataframe thead th {\n",
              "        text-align: right;\n",
              "    }\n",
              "</style>\n",
              "<table border=\"1\" class=\"dataframe\">\n",
              "  <thead>\n",
              "    <tr style=\"text-align: right;\">\n",
              "      <th></th>\n",
              "      <th>Temp Change $^{\\circ}$C</th>\n",
              "      <th>Time (s)</th>\n",
              "      <th>x_heat_dist</th>\n",
              "      <th>y_heat_dist</th>\n",
              "      <th>std_140</th>\n",
              "      <th>mean</th>\n",
              "      <th>median</th>\n",
              "      <th>heat_mat_temp</th>\n",
              "      <th>amb_1</th>\n",
              "      <th>amb_2</th>\n",
              "      <th>amb_3</th>\n",
              "      <th>defect</th>\n",
              "      <th>State</th>\n",
              "    </tr>\n",
              "  </thead>\n",
              "  <tbody>\n",
              "    <tr>\n",
              "      <th>0</th>\n",
              "      <td>0.1</td>\n",
              "      <td>20</td>\n",
              "      <td>75.0</td>\n",
              "      <td>0.0</td>\n",
              "      <td>6.068788</td>\n",
              "      <td>0.218182</td>\n",
              "      <td>0.1</td>\n",
              "      <td>29.8</td>\n",
              "      <td>24.5</td>\n",
              "      <td>24.3</td>\n",
              "      <td>24.2</td>\n",
              "      <td>0</td>\n",
              "      <td>No Delamination</td>\n",
              "    </tr>\n",
              "    <tr>\n",
              "      <th>1</th>\n",
              "      <td>0.1</td>\n",
              "      <td>21</td>\n",
              "      <td>75.0</td>\n",
              "      <td>0.0</td>\n",
              "      <td>6.068788</td>\n",
              "      <td>0.265455</td>\n",
              "      <td>0.1</td>\n",
              "      <td>30.5</td>\n",
              "      <td>24.5</td>\n",
              "      <td>24.3</td>\n",
              "      <td>24.2</td>\n",
              "      <td>0</td>\n",
              "      <td>No Delamination</td>\n",
              "    </tr>\n",
              "    <tr>\n",
              "      <th>2</th>\n",
              "      <td>0.2</td>\n",
              "      <td>22</td>\n",
              "      <td>75.0</td>\n",
              "      <td>0.0</td>\n",
              "      <td>6.068788</td>\n",
              "      <td>0.309091</td>\n",
              "      <td>0.1</td>\n",
              "      <td>31.0</td>\n",
              "      <td>24.5</td>\n",
              "      <td>24.3</td>\n",
              "      <td>24.2</td>\n",
              "      <td>0</td>\n",
              "      <td>No Delamination</td>\n",
              "    </tr>\n",
              "    <tr>\n",
              "      <th>3</th>\n",
              "      <td>0.2</td>\n",
              "      <td>23</td>\n",
              "      <td>75.0</td>\n",
              "      <td>0.0</td>\n",
              "      <td>6.068788</td>\n",
              "      <td>0.369091</td>\n",
              "      <td>0.1</td>\n",
              "      <td>31.5</td>\n",
              "      <td>24.5</td>\n",
              "      <td>24.3</td>\n",
              "      <td>24.2</td>\n",
              "      <td>0</td>\n",
              "      <td>No Delamination</td>\n",
              "    </tr>\n",
              "    <tr>\n",
              "      <th>4</th>\n",
              "      <td>0.2</td>\n",
              "      <td>24</td>\n",
              "      <td>75.0</td>\n",
              "      <td>0.0</td>\n",
              "      <td>6.068788</td>\n",
              "      <td>0.438182</td>\n",
              "      <td>0.1</td>\n",
              "      <td>32.1</td>\n",
              "      <td>24.5</td>\n",
              "      <td>24.3</td>\n",
              "      <td>24.2</td>\n",
              "      <td>0</td>\n",
              "      <td>No Delamination</td>\n",
              "    </tr>\n",
              "  </tbody>\n",
              "</table>\n",
              "</div>\n",
              "      <button class=\"colab-df-convert\" onclick=\"convertToInteractive('df-6dfa41ee-fce5-41e9-903c-5b10df3ca41a')\"\n",
              "              title=\"Convert this dataframe to an interactive table.\"\n",
              "              style=\"display:none;\">\n",
              "        \n",
              "  <svg xmlns=\"http://www.w3.org/2000/svg\" height=\"24px\"viewBox=\"0 0 24 24\"\n",
              "       width=\"24px\">\n",
              "    <path d=\"M0 0h24v24H0V0z\" fill=\"none\"/>\n",
              "    <path d=\"M18.56 5.44l.94 2.06.94-2.06 2.06-.94-2.06-.94-.94-2.06-.94 2.06-2.06.94zm-11 1L8.5 8.5l.94-2.06 2.06-.94-2.06-.94L8.5 2.5l-.94 2.06-2.06.94zm10 10l.94 2.06.94-2.06 2.06-.94-2.06-.94-.94-2.06-.94 2.06-2.06.94z\"/><path d=\"M17.41 7.96l-1.37-1.37c-.4-.4-.92-.59-1.43-.59-.52 0-1.04.2-1.43.59L10.3 9.45l-7.72 7.72c-.78.78-.78 2.05 0 2.83L4 21.41c.39.39.9.59 1.41.59.51 0 1.02-.2 1.41-.59l7.78-7.78 2.81-2.81c.8-.78.8-2.07 0-2.86zM5.41 20L4 18.59l7.72-7.72 1.47 1.35L5.41 20z\"/>\n",
              "  </svg>\n",
              "      </button>\n",
              "      \n",
              "  <style>\n",
              "    .colab-df-container {\n",
              "      display:flex;\n",
              "      flex-wrap:wrap;\n",
              "      gap: 12px;\n",
              "    }\n",
              "\n",
              "    .colab-df-convert {\n",
              "      background-color: #E8F0FE;\n",
              "      border: none;\n",
              "      border-radius: 50%;\n",
              "      cursor: pointer;\n",
              "      display: none;\n",
              "      fill: #1967D2;\n",
              "      height: 32px;\n",
              "      padding: 0 0 0 0;\n",
              "      width: 32px;\n",
              "    }\n",
              "\n",
              "    .colab-df-convert:hover {\n",
              "      background-color: #E2EBFA;\n",
              "      box-shadow: 0px 1px 2px rgba(60, 64, 67, 0.3), 0px 1px 3px 1px rgba(60, 64, 67, 0.15);\n",
              "      fill: #174EA6;\n",
              "    }\n",
              "\n",
              "    [theme=dark] .colab-df-convert {\n",
              "      background-color: #3B4455;\n",
              "      fill: #D2E3FC;\n",
              "    }\n",
              "\n",
              "    [theme=dark] .colab-df-convert:hover {\n",
              "      background-color: #434B5C;\n",
              "      box-shadow: 0px 1px 3px 1px rgba(0, 0, 0, 0.15);\n",
              "      filter: drop-shadow(0px 1px 2px rgba(0, 0, 0, 0.3));\n",
              "      fill: #FFFFFF;\n",
              "    }\n",
              "  </style>\n",
              "\n",
              "      <script>\n",
              "        const buttonEl =\n",
              "          document.querySelector('#df-6dfa41ee-fce5-41e9-903c-5b10df3ca41a button.colab-df-convert');\n",
              "        buttonEl.style.display =\n",
              "          google.colab.kernel.accessAllowed ? 'block' : 'none';\n",
              "\n",
              "        async function convertToInteractive(key) {\n",
              "          const element = document.querySelector('#df-6dfa41ee-fce5-41e9-903c-5b10df3ca41a');\n",
              "          const dataTable =\n",
              "            await google.colab.kernel.invokeFunction('convertToInteractive',\n",
              "                                                     [key], {});\n",
              "          if (!dataTable) return;\n",
              "\n",
              "          const docLinkHtml = 'Like what you see? Visit the ' +\n",
              "            '<a target=\"_blank\" href=https://colab.research.google.com/notebooks/data_table.ipynb>data table notebook</a>'\n",
              "            + ' to learn more about interactive tables.';\n",
              "          element.innerHTML = '';\n",
              "          dataTable['output_type'] = 'display_data';\n",
              "          await google.colab.output.renderOutput(dataTable, element);\n",
              "          const docLink = document.createElement('div');\n",
              "          docLink.innerHTML = docLinkHtml;\n",
              "          element.appendChild(docLink);\n",
              "        }\n",
              "      </script>\n",
              "    </div>\n",
              "  </div>\n",
              "  "
            ]
          },
          "metadata": {},
          "execution_count": 89
        }
      ]
    },
    {
      "cell_type": "code",
      "source": [
        "Data.columns"
      ],
      "metadata": {
        "colab": {
          "base_uri": "https://localhost:8080/"
        },
        "id": "RXcbQxozOawQ",
        "outputId": "51eee6d4-84b5-46b6-9d85-3bdbe90dbaec"
      },
      "execution_count": 90,
      "outputs": [
        {
          "output_type": "execute_result",
          "data": {
            "text/plain": [
              "Index(['Temp Change $^{\\circ}$C', 'Time (s)', 'x_heat_dist', 'y_heat_dist',\n",
              "       'std_140', 'mean', 'median', 'heat_mat_temp', 'amb_1', 'amb_2', 'amb_3',\n",
              "       'defect', 'State'],\n",
              "      dtype='object')"
            ]
          },
          "metadata": {},
          "execution_count": 90
        }
      ]
    },
    {
      "cell_type": "code",
      "source": [
        "missing= pd.concat([pd.isnull(Data).sum(), 100 * pd.isnull(Data).mean()], axis=1)\n",
        "missing.columns=['count', '%']\n",
        "missing.sort_values(by=['count'])"
      ],
      "metadata": {
        "colab": {
          "base_uri": "https://localhost:8080/",
          "height": 457
        },
        "id": "w1Z1SGSMOnUM",
        "outputId": "1cd7f62f-7fc3-4c0e-c57e-8fc58bf5d480"
      },
      "execution_count": 91,
      "outputs": [
        {
          "output_type": "execute_result",
          "data": {
            "text/plain": [
              "                         count    %\n",
              "Temp Change $^{\\circ}$C      0  0.0\n",
              "Time (s)                     0  0.0\n",
              "x_heat_dist                  0  0.0\n",
              "y_heat_dist                  0  0.0\n",
              "std_140                      0  0.0\n",
              "mean                         0  0.0\n",
              "median                       0  0.0\n",
              "heat_mat_temp                0  0.0\n",
              "amb_1                        0  0.0\n",
              "amb_2                        0  0.0\n",
              "amb_3                        0  0.0\n",
              "defect                       0  0.0\n",
              "State                        0  0.0"
            ],
            "text/html": [
              "\n",
              "  <div id=\"df-e75acd0f-7808-449c-98a8-a491fe892ff7\">\n",
              "    <div class=\"colab-df-container\">\n",
              "      <div>\n",
              "<style scoped>\n",
              "    .dataframe tbody tr th:only-of-type {\n",
              "        vertical-align: middle;\n",
              "    }\n",
              "\n",
              "    .dataframe tbody tr th {\n",
              "        vertical-align: top;\n",
              "    }\n",
              "\n",
              "    .dataframe thead th {\n",
              "        text-align: right;\n",
              "    }\n",
              "</style>\n",
              "<table border=\"1\" class=\"dataframe\">\n",
              "  <thead>\n",
              "    <tr style=\"text-align: right;\">\n",
              "      <th></th>\n",
              "      <th>count</th>\n",
              "      <th>%</th>\n",
              "    </tr>\n",
              "  </thead>\n",
              "  <tbody>\n",
              "    <tr>\n",
              "      <th>Temp Change $^{\\circ}$C</th>\n",
              "      <td>0</td>\n",
              "      <td>0.0</td>\n",
              "    </tr>\n",
              "    <tr>\n",
              "      <th>Time (s)</th>\n",
              "      <td>0</td>\n",
              "      <td>0.0</td>\n",
              "    </tr>\n",
              "    <tr>\n",
              "      <th>x_heat_dist</th>\n",
              "      <td>0</td>\n",
              "      <td>0.0</td>\n",
              "    </tr>\n",
              "    <tr>\n",
              "      <th>y_heat_dist</th>\n",
              "      <td>0</td>\n",
              "      <td>0.0</td>\n",
              "    </tr>\n",
              "    <tr>\n",
              "      <th>std_140</th>\n",
              "      <td>0</td>\n",
              "      <td>0.0</td>\n",
              "    </tr>\n",
              "    <tr>\n",
              "      <th>mean</th>\n",
              "      <td>0</td>\n",
              "      <td>0.0</td>\n",
              "    </tr>\n",
              "    <tr>\n",
              "      <th>median</th>\n",
              "      <td>0</td>\n",
              "      <td>0.0</td>\n",
              "    </tr>\n",
              "    <tr>\n",
              "      <th>heat_mat_temp</th>\n",
              "      <td>0</td>\n",
              "      <td>0.0</td>\n",
              "    </tr>\n",
              "    <tr>\n",
              "      <th>amb_1</th>\n",
              "      <td>0</td>\n",
              "      <td>0.0</td>\n",
              "    </tr>\n",
              "    <tr>\n",
              "      <th>amb_2</th>\n",
              "      <td>0</td>\n",
              "      <td>0.0</td>\n",
              "    </tr>\n",
              "    <tr>\n",
              "      <th>amb_3</th>\n",
              "      <td>0</td>\n",
              "      <td>0.0</td>\n",
              "    </tr>\n",
              "    <tr>\n",
              "      <th>defect</th>\n",
              "      <td>0</td>\n",
              "      <td>0.0</td>\n",
              "    </tr>\n",
              "    <tr>\n",
              "      <th>State</th>\n",
              "      <td>0</td>\n",
              "      <td>0.0</td>\n",
              "    </tr>\n",
              "  </tbody>\n",
              "</table>\n",
              "</div>\n",
              "      <button class=\"colab-df-convert\" onclick=\"convertToInteractive('df-e75acd0f-7808-449c-98a8-a491fe892ff7')\"\n",
              "              title=\"Convert this dataframe to an interactive table.\"\n",
              "              style=\"display:none;\">\n",
              "        \n",
              "  <svg xmlns=\"http://www.w3.org/2000/svg\" height=\"24px\"viewBox=\"0 0 24 24\"\n",
              "       width=\"24px\">\n",
              "    <path d=\"M0 0h24v24H0V0z\" fill=\"none\"/>\n",
              "    <path d=\"M18.56 5.44l.94 2.06.94-2.06 2.06-.94-2.06-.94-.94-2.06-.94 2.06-2.06.94zm-11 1L8.5 8.5l.94-2.06 2.06-.94-2.06-.94L8.5 2.5l-.94 2.06-2.06.94zm10 10l.94 2.06.94-2.06 2.06-.94-2.06-.94-.94-2.06-.94 2.06-2.06.94z\"/><path d=\"M17.41 7.96l-1.37-1.37c-.4-.4-.92-.59-1.43-.59-.52 0-1.04.2-1.43.59L10.3 9.45l-7.72 7.72c-.78.78-.78 2.05 0 2.83L4 21.41c.39.39.9.59 1.41.59.51 0 1.02-.2 1.41-.59l7.78-7.78 2.81-2.81c.8-.78.8-2.07 0-2.86zM5.41 20L4 18.59l7.72-7.72 1.47 1.35L5.41 20z\"/>\n",
              "  </svg>\n",
              "      </button>\n",
              "      \n",
              "  <style>\n",
              "    .colab-df-container {\n",
              "      display:flex;\n",
              "      flex-wrap:wrap;\n",
              "      gap: 12px;\n",
              "    }\n",
              "\n",
              "    .colab-df-convert {\n",
              "      background-color: #E8F0FE;\n",
              "      border: none;\n",
              "      border-radius: 50%;\n",
              "      cursor: pointer;\n",
              "      display: none;\n",
              "      fill: #1967D2;\n",
              "      height: 32px;\n",
              "      padding: 0 0 0 0;\n",
              "      width: 32px;\n",
              "    }\n",
              "\n",
              "    .colab-df-convert:hover {\n",
              "      background-color: #E2EBFA;\n",
              "      box-shadow: 0px 1px 2px rgba(60, 64, 67, 0.3), 0px 1px 3px 1px rgba(60, 64, 67, 0.15);\n",
              "      fill: #174EA6;\n",
              "    }\n",
              "\n",
              "    [theme=dark] .colab-df-convert {\n",
              "      background-color: #3B4455;\n",
              "      fill: #D2E3FC;\n",
              "    }\n",
              "\n",
              "    [theme=dark] .colab-df-convert:hover {\n",
              "      background-color: #434B5C;\n",
              "      box-shadow: 0px 1px 3px 1px rgba(0, 0, 0, 0.15);\n",
              "      filter: drop-shadow(0px 1px 2px rgba(0, 0, 0, 0.3));\n",
              "      fill: #FFFFFF;\n",
              "    }\n",
              "  </style>\n",
              "\n",
              "      <script>\n",
              "        const buttonEl =\n",
              "          document.querySelector('#df-e75acd0f-7808-449c-98a8-a491fe892ff7 button.colab-df-convert');\n",
              "        buttonEl.style.display =\n",
              "          google.colab.kernel.accessAllowed ? 'block' : 'none';\n",
              "\n",
              "        async function convertToInteractive(key) {\n",
              "          const element = document.querySelector('#df-e75acd0f-7808-449c-98a8-a491fe892ff7');\n",
              "          const dataTable =\n",
              "            await google.colab.kernel.invokeFunction('convertToInteractive',\n",
              "                                                     [key], {});\n",
              "          if (!dataTable) return;\n",
              "\n",
              "          const docLinkHtml = 'Like what you see? Visit the ' +\n",
              "            '<a target=\"_blank\" href=https://colab.research.google.com/notebooks/data_table.ipynb>data table notebook</a>'\n",
              "            + ' to learn more about interactive tables.';\n",
              "          element.innerHTML = '';\n",
              "          dataTable['output_type'] = 'display_data';\n",
              "          await google.colab.output.renderOutput(dataTable, element);\n",
              "          const docLink = document.createElement('div');\n",
              "          docLink.innerHTML = docLinkHtml;\n",
              "          element.appendChild(docLink);\n",
              "        }\n",
              "      </script>\n",
              "    </div>\n",
              "  </div>\n",
              "  "
            ]
          },
          "metadata": {},
          "execution_count": 91
        }
      ]
    },
    {
      "cell_type": "markdown",
      "source": [
        "As feature 'State' refers the sematic abbreviation of feature'defect', we can ignore it."
      ],
      "metadata": {
        "id": "HTHfwSoKPDzd"
      }
    },
    {
      "cell_type": "code",
      "source": [
        "Data = Data.drop('State', 1)"
      ],
      "metadata": {
        "colab": {
          "base_uri": "https://localhost:8080/"
        },
        "id": "BnjTRz1LPqyv",
        "outputId": "ce8fabc9-a65d-45d8-8eb9-4f85b4d5cd5a"
      },
      "execution_count": 92,
      "outputs": [
        {
          "output_type": "stream",
          "name": "stderr",
          "text": [
            "/usr/local/lib/python3.7/dist-packages/ipykernel_launcher.py:1: FutureWarning: In a future version of pandas all arguments of DataFrame.drop except for the argument 'labels' will be keyword-only\n",
            "  \"\"\"Entry point for launching an IPython kernel.\n"
          ]
        }
      ]
    },
    {
      "cell_type": "code",
      "source": [
        "Data.head()"
      ],
      "metadata": {
        "colab": {
          "base_uri": "https://localhost:8080/",
          "height": 206
        },
        "id": "hlqjbcDjPYDH",
        "outputId": "f9d6f993-f397-4cce-c931-9999a7817822"
      },
      "execution_count": 93,
      "outputs": [
        {
          "output_type": "execute_result",
          "data": {
            "text/plain": [
              "   Temp Change $^{\\circ}$C  Time (s)  x_heat_dist  y_heat_dist   std_140  \\\n",
              "0                      0.1        20         75.0          0.0  6.068788   \n",
              "1                      0.1        21         75.0          0.0  6.068788   \n",
              "2                      0.2        22         75.0          0.0  6.068788   \n",
              "3                      0.2        23         75.0          0.0  6.068788   \n",
              "4                      0.2        24         75.0          0.0  6.068788   \n",
              "\n",
              "       mean  median  heat_mat_temp  amb_1  amb_2  amb_3  defect  \n",
              "0  0.218182     0.1           29.8   24.5   24.3   24.2       0  \n",
              "1  0.265455     0.1           30.5   24.5   24.3   24.2       0  \n",
              "2  0.309091     0.1           31.0   24.5   24.3   24.2       0  \n",
              "3  0.369091     0.1           31.5   24.5   24.3   24.2       0  \n",
              "4  0.438182     0.1           32.1   24.5   24.3   24.2       0  "
            ],
            "text/html": [
              "\n",
              "  <div id=\"df-7302ecb8-bf06-4c92-a3ad-29f69133be44\">\n",
              "    <div class=\"colab-df-container\">\n",
              "      <div>\n",
              "<style scoped>\n",
              "    .dataframe tbody tr th:only-of-type {\n",
              "        vertical-align: middle;\n",
              "    }\n",
              "\n",
              "    .dataframe tbody tr th {\n",
              "        vertical-align: top;\n",
              "    }\n",
              "\n",
              "    .dataframe thead th {\n",
              "        text-align: right;\n",
              "    }\n",
              "</style>\n",
              "<table border=\"1\" class=\"dataframe\">\n",
              "  <thead>\n",
              "    <tr style=\"text-align: right;\">\n",
              "      <th></th>\n",
              "      <th>Temp Change $^{\\circ}$C</th>\n",
              "      <th>Time (s)</th>\n",
              "      <th>x_heat_dist</th>\n",
              "      <th>y_heat_dist</th>\n",
              "      <th>std_140</th>\n",
              "      <th>mean</th>\n",
              "      <th>median</th>\n",
              "      <th>heat_mat_temp</th>\n",
              "      <th>amb_1</th>\n",
              "      <th>amb_2</th>\n",
              "      <th>amb_3</th>\n",
              "      <th>defect</th>\n",
              "    </tr>\n",
              "  </thead>\n",
              "  <tbody>\n",
              "    <tr>\n",
              "      <th>0</th>\n",
              "      <td>0.1</td>\n",
              "      <td>20</td>\n",
              "      <td>75.0</td>\n",
              "      <td>0.0</td>\n",
              "      <td>6.068788</td>\n",
              "      <td>0.218182</td>\n",
              "      <td>0.1</td>\n",
              "      <td>29.8</td>\n",
              "      <td>24.5</td>\n",
              "      <td>24.3</td>\n",
              "      <td>24.2</td>\n",
              "      <td>0</td>\n",
              "    </tr>\n",
              "    <tr>\n",
              "      <th>1</th>\n",
              "      <td>0.1</td>\n",
              "      <td>21</td>\n",
              "      <td>75.0</td>\n",
              "      <td>0.0</td>\n",
              "      <td>6.068788</td>\n",
              "      <td>0.265455</td>\n",
              "      <td>0.1</td>\n",
              "      <td>30.5</td>\n",
              "      <td>24.5</td>\n",
              "      <td>24.3</td>\n",
              "      <td>24.2</td>\n",
              "      <td>0</td>\n",
              "    </tr>\n",
              "    <tr>\n",
              "      <th>2</th>\n",
              "      <td>0.2</td>\n",
              "      <td>22</td>\n",
              "      <td>75.0</td>\n",
              "      <td>0.0</td>\n",
              "      <td>6.068788</td>\n",
              "      <td>0.309091</td>\n",
              "      <td>0.1</td>\n",
              "      <td>31.0</td>\n",
              "      <td>24.5</td>\n",
              "      <td>24.3</td>\n",
              "      <td>24.2</td>\n",
              "      <td>0</td>\n",
              "    </tr>\n",
              "    <tr>\n",
              "      <th>3</th>\n",
              "      <td>0.2</td>\n",
              "      <td>23</td>\n",
              "      <td>75.0</td>\n",
              "      <td>0.0</td>\n",
              "      <td>6.068788</td>\n",
              "      <td>0.369091</td>\n",
              "      <td>0.1</td>\n",
              "      <td>31.5</td>\n",
              "      <td>24.5</td>\n",
              "      <td>24.3</td>\n",
              "      <td>24.2</td>\n",
              "      <td>0</td>\n",
              "    </tr>\n",
              "    <tr>\n",
              "      <th>4</th>\n",
              "      <td>0.2</td>\n",
              "      <td>24</td>\n",
              "      <td>75.0</td>\n",
              "      <td>0.0</td>\n",
              "      <td>6.068788</td>\n",
              "      <td>0.438182</td>\n",
              "      <td>0.1</td>\n",
              "      <td>32.1</td>\n",
              "      <td>24.5</td>\n",
              "      <td>24.3</td>\n",
              "      <td>24.2</td>\n",
              "      <td>0</td>\n",
              "    </tr>\n",
              "  </tbody>\n",
              "</table>\n",
              "</div>\n",
              "      <button class=\"colab-df-convert\" onclick=\"convertToInteractive('df-7302ecb8-bf06-4c92-a3ad-29f69133be44')\"\n",
              "              title=\"Convert this dataframe to an interactive table.\"\n",
              "              style=\"display:none;\">\n",
              "        \n",
              "  <svg xmlns=\"http://www.w3.org/2000/svg\" height=\"24px\"viewBox=\"0 0 24 24\"\n",
              "       width=\"24px\">\n",
              "    <path d=\"M0 0h24v24H0V0z\" fill=\"none\"/>\n",
              "    <path d=\"M18.56 5.44l.94 2.06.94-2.06 2.06-.94-2.06-.94-.94-2.06-.94 2.06-2.06.94zm-11 1L8.5 8.5l.94-2.06 2.06-.94-2.06-.94L8.5 2.5l-.94 2.06-2.06.94zm10 10l.94 2.06.94-2.06 2.06-.94-2.06-.94-.94-2.06-.94 2.06-2.06.94z\"/><path d=\"M17.41 7.96l-1.37-1.37c-.4-.4-.92-.59-1.43-.59-.52 0-1.04.2-1.43.59L10.3 9.45l-7.72 7.72c-.78.78-.78 2.05 0 2.83L4 21.41c.39.39.9.59 1.41.59.51 0 1.02-.2 1.41-.59l7.78-7.78 2.81-2.81c.8-.78.8-2.07 0-2.86zM5.41 20L4 18.59l7.72-7.72 1.47 1.35L5.41 20z\"/>\n",
              "  </svg>\n",
              "      </button>\n",
              "      \n",
              "  <style>\n",
              "    .colab-df-container {\n",
              "      display:flex;\n",
              "      flex-wrap:wrap;\n",
              "      gap: 12px;\n",
              "    }\n",
              "\n",
              "    .colab-df-convert {\n",
              "      background-color: #E8F0FE;\n",
              "      border: none;\n",
              "      border-radius: 50%;\n",
              "      cursor: pointer;\n",
              "      display: none;\n",
              "      fill: #1967D2;\n",
              "      height: 32px;\n",
              "      padding: 0 0 0 0;\n",
              "      width: 32px;\n",
              "    }\n",
              "\n",
              "    .colab-df-convert:hover {\n",
              "      background-color: #E2EBFA;\n",
              "      box-shadow: 0px 1px 2px rgba(60, 64, 67, 0.3), 0px 1px 3px 1px rgba(60, 64, 67, 0.15);\n",
              "      fill: #174EA6;\n",
              "    }\n",
              "\n",
              "    [theme=dark] .colab-df-convert {\n",
              "      background-color: #3B4455;\n",
              "      fill: #D2E3FC;\n",
              "    }\n",
              "\n",
              "    [theme=dark] .colab-df-convert:hover {\n",
              "      background-color: #434B5C;\n",
              "      box-shadow: 0px 1px 3px 1px rgba(0, 0, 0, 0.15);\n",
              "      filter: drop-shadow(0px 1px 2px rgba(0, 0, 0, 0.3));\n",
              "      fill: #FFFFFF;\n",
              "    }\n",
              "  </style>\n",
              "\n",
              "      <script>\n",
              "        const buttonEl =\n",
              "          document.querySelector('#df-7302ecb8-bf06-4c92-a3ad-29f69133be44 button.colab-df-convert');\n",
              "        buttonEl.style.display =\n",
              "          google.colab.kernel.accessAllowed ? 'block' : 'none';\n",
              "\n",
              "        async function convertToInteractive(key) {\n",
              "          const element = document.querySelector('#df-7302ecb8-bf06-4c92-a3ad-29f69133be44');\n",
              "          const dataTable =\n",
              "            await google.colab.kernel.invokeFunction('convertToInteractive',\n",
              "                                                     [key], {});\n",
              "          if (!dataTable) return;\n",
              "\n",
              "          const docLinkHtml = 'Like what you see? Visit the ' +\n",
              "            '<a target=\"_blank\" href=https://colab.research.google.com/notebooks/data_table.ipynb>data table notebook</a>'\n",
              "            + ' to learn more about interactive tables.';\n",
              "          element.innerHTML = '';\n",
              "          dataTable['output_type'] = 'display_data';\n",
              "          await google.colab.output.renderOutput(dataTable, element);\n",
              "          const docLink = document.createElement('div');\n",
              "          docLink.innerHTML = docLinkHtml;\n",
              "          element.appendChild(docLink);\n",
              "        }\n",
              "      </script>\n",
              "    </div>\n",
              "  </div>\n",
              "  "
            ]
          },
          "metadata": {},
          "execution_count": 93
        }
      ]
    },
    {
      "cell_type": "code",
      "source": [
        "Data.shape"
      ],
      "metadata": {
        "colab": {
          "base_uri": "https://localhost:8080/"
        },
        "id": "b4xjpsfWPz5C",
        "outputId": "dd319b9c-62d5-47bb-81bc-57be6b0f4da5"
      },
      "execution_count": 94,
      "outputs": [
        {
          "output_type": "execute_result",
          "data": {
            "text/plain": [
              "(107442, 12)"
            ]
          },
          "metadata": {},
          "execution_count": 94
        }
      ]
    },
    {
      "cell_type": "code",
      "source": [
        "Data.dtypes"
      ],
      "metadata": {
        "colab": {
          "base_uri": "https://localhost:8080/"
        },
        "id": "p7kZ1UHiP5NK",
        "outputId": "70775020-4ba7-4ca6-a8cb-9d75eff58c48"
      },
      "execution_count": 95,
      "outputs": [
        {
          "output_type": "execute_result",
          "data": {
            "text/plain": [
              "Temp Change $^{\\circ}$C    float64\n",
              "Time (s)                     int64\n",
              "x_heat_dist                float64\n",
              "y_heat_dist                float64\n",
              "std_140                    float64\n",
              "mean                       float64\n",
              "median                     float64\n",
              "heat_mat_temp              float64\n",
              "amb_1                      float64\n",
              "amb_2                      float64\n",
              "amb_3                      float64\n",
              "defect                       int64\n",
              "dtype: object"
            ]
          },
          "metadata": {},
          "execution_count": 95
        }
      ]
    },
    {
      "cell_type": "markdown",
      "source": [
        "Checking Target Features"
      ],
      "metadata": {
        "id": "vlMIihsQRihA"
      }
    },
    {
      "cell_type": "code",
      "source": [
        "Data.defect.unique()"
      ],
      "metadata": {
        "colab": {
          "base_uri": "https://localhost:8080/"
        },
        "id": "T-ne_monQCrP",
        "outputId": "409b0e90-88e6-4b74-bd1b-a86e05c95531"
      },
      "execution_count": 96,
      "outputs": [
        {
          "output_type": "execute_result",
          "data": {
            "text/plain": [
              "array([0, 3, 2, 1])"
            ]
          },
          "metadata": {},
          "execution_count": 96
        }
      ]
    },
    {
      "cell_type": "code",
      "source": [
        "Data['defect'].value_counts()"
      ],
      "metadata": {
        "colab": {
          "base_uri": "https://localhost:8080/"
        },
        "id": "Y_f7BFDoRtY1",
        "outputId": "315a4e5c-3a87-4107-9e51-7205f6034bce"
      },
      "execution_count": 97,
      "outputs": [
        {
          "output_type": "execute_result",
          "data": {
            "text/plain": [
              "0    47235\n",
              "1    40608\n",
              "2    13113\n",
              "3     6486\n",
              "Name: defect, dtype: int64"
            ]
          },
          "metadata": {},
          "execution_count": 97
        }
      ]
    },
    {
      "cell_type": "markdown",
      "source": [
        "defect: If a defect is present: '0' - no defect; '1' - delamination, outer area; '2' - delamination, centre, '3' - no defect with defect between centre of heater mat and probe."
      ],
      "metadata": {
        "id": "UC5_Q5FNS1Ot"
      }
    },
    {
      "cell_type": "code",
      "source": [
        "Data.select_dtypes('int64')"
      ],
      "metadata": {
        "colab": {
          "base_uri": "https://localhost:8080/",
          "height": 424
        },
        "id": "REirhrfeR9ez",
        "outputId": "18a6264f-2e0f-4cc5-c6cf-d778931d86d5"
      },
      "execution_count": 98,
      "outputs": [
        {
          "output_type": "execute_result",
          "data": {
            "text/plain": [
              "        Time (s)  defect\n",
              "0             20       0\n",
              "1             21       0\n",
              "2             22       0\n",
              "3             23       0\n",
              "4             24       0\n",
              "...          ...     ...\n",
              "107437       156       1\n",
              "107438       157       1\n",
              "107439       158       1\n",
              "107440       159       1\n",
              "107441       160       1\n",
              "\n",
              "[107442 rows x 2 columns]"
            ],
            "text/html": [
              "\n",
              "  <div id=\"df-e32dc19e-583f-4d0e-abfc-4c4c6dc2cbeb\">\n",
              "    <div class=\"colab-df-container\">\n",
              "      <div>\n",
              "<style scoped>\n",
              "    .dataframe tbody tr th:only-of-type {\n",
              "        vertical-align: middle;\n",
              "    }\n",
              "\n",
              "    .dataframe tbody tr th {\n",
              "        vertical-align: top;\n",
              "    }\n",
              "\n",
              "    .dataframe thead th {\n",
              "        text-align: right;\n",
              "    }\n",
              "</style>\n",
              "<table border=\"1\" class=\"dataframe\">\n",
              "  <thead>\n",
              "    <tr style=\"text-align: right;\">\n",
              "      <th></th>\n",
              "      <th>Time (s)</th>\n",
              "      <th>defect</th>\n",
              "    </tr>\n",
              "  </thead>\n",
              "  <tbody>\n",
              "    <tr>\n",
              "      <th>0</th>\n",
              "      <td>20</td>\n",
              "      <td>0</td>\n",
              "    </tr>\n",
              "    <tr>\n",
              "      <th>1</th>\n",
              "      <td>21</td>\n",
              "      <td>0</td>\n",
              "    </tr>\n",
              "    <tr>\n",
              "      <th>2</th>\n",
              "      <td>22</td>\n",
              "      <td>0</td>\n",
              "    </tr>\n",
              "    <tr>\n",
              "      <th>3</th>\n",
              "      <td>23</td>\n",
              "      <td>0</td>\n",
              "    </tr>\n",
              "    <tr>\n",
              "      <th>4</th>\n",
              "      <td>24</td>\n",
              "      <td>0</td>\n",
              "    </tr>\n",
              "    <tr>\n",
              "      <th>...</th>\n",
              "      <td>...</td>\n",
              "      <td>...</td>\n",
              "    </tr>\n",
              "    <tr>\n",
              "      <th>107437</th>\n",
              "      <td>156</td>\n",
              "      <td>1</td>\n",
              "    </tr>\n",
              "    <tr>\n",
              "      <th>107438</th>\n",
              "      <td>157</td>\n",
              "      <td>1</td>\n",
              "    </tr>\n",
              "    <tr>\n",
              "      <th>107439</th>\n",
              "      <td>158</td>\n",
              "      <td>1</td>\n",
              "    </tr>\n",
              "    <tr>\n",
              "      <th>107440</th>\n",
              "      <td>159</td>\n",
              "      <td>1</td>\n",
              "    </tr>\n",
              "    <tr>\n",
              "      <th>107441</th>\n",
              "      <td>160</td>\n",
              "      <td>1</td>\n",
              "    </tr>\n",
              "  </tbody>\n",
              "</table>\n",
              "<p>107442 rows × 2 columns</p>\n",
              "</div>\n",
              "      <button class=\"colab-df-convert\" onclick=\"convertToInteractive('df-e32dc19e-583f-4d0e-abfc-4c4c6dc2cbeb')\"\n",
              "              title=\"Convert this dataframe to an interactive table.\"\n",
              "              style=\"display:none;\">\n",
              "        \n",
              "  <svg xmlns=\"http://www.w3.org/2000/svg\" height=\"24px\"viewBox=\"0 0 24 24\"\n",
              "       width=\"24px\">\n",
              "    <path d=\"M0 0h24v24H0V0z\" fill=\"none\"/>\n",
              "    <path d=\"M18.56 5.44l.94 2.06.94-2.06 2.06-.94-2.06-.94-.94-2.06-.94 2.06-2.06.94zm-11 1L8.5 8.5l.94-2.06 2.06-.94-2.06-.94L8.5 2.5l-.94 2.06-2.06.94zm10 10l.94 2.06.94-2.06 2.06-.94-2.06-.94-.94-2.06-.94 2.06-2.06.94z\"/><path d=\"M17.41 7.96l-1.37-1.37c-.4-.4-.92-.59-1.43-.59-.52 0-1.04.2-1.43.59L10.3 9.45l-7.72 7.72c-.78.78-.78 2.05 0 2.83L4 21.41c.39.39.9.59 1.41.59.51 0 1.02-.2 1.41-.59l7.78-7.78 2.81-2.81c.8-.78.8-2.07 0-2.86zM5.41 20L4 18.59l7.72-7.72 1.47 1.35L5.41 20z\"/>\n",
              "  </svg>\n",
              "      </button>\n",
              "      \n",
              "  <style>\n",
              "    .colab-df-container {\n",
              "      display:flex;\n",
              "      flex-wrap:wrap;\n",
              "      gap: 12px;\n",
              "    }\n",
              "\n",
              "    .colab-df-convert {\n",
              "      background-color: #E8F0FE;\n",
              "      border: none;\n",
              "      border-radius: 50%;\n",
              "      cursor: pointer;\n",
              "      display: none;\n",
              "      fill: #1967D2;\n",
              "      height: 32px;\n",
              "      padding: 0 0 0 0;\n",
              "      width: 32px;\n",
              "    }\n",
              "\n",
              "    .colab-df-convert:hover {\n",
              "      background-color: #E2EBFA;\n",
              "      box-shadow: 0px 1px 2px rgba(60, 64, 67, 0.3), 0px 1px 3px 1px rgba(60, 64, 67, 0.15);\n",
              "      fill: #174EA6;\n",
              "    }\n",
              "\n",
              "    [theme=dark] .colab-df-convert {\n",
              "      background-color: #3B4455;\n",
              "      fill: #D2E3FC;\n",
              "    }\n",
              "\n",
              "    [theme=dark] .colab-df-convert:hover {\n",
              "      background-color: #434B5C;\n",
              "      box-shadow: 0px 1px 3px 1px rgba(0, 0, 0, 0.15);\n",
              "      filter: drop-shadow(0px 1px 2px rgba(0, 0, 0, 0.3));\n",
              "      fill: #FFFFFF;\n",
              "    }\n",
              "  </style>\n",
              "\n",
              "      <script>\n",
              "        const buttonEl =\n",
              "          document.querySelector('#df-e32dc19e-583f-4d0e-abfc-4c4c6dc2cbeb button.colab-df-convert');\n",
              "        buttonEl.style.display =\n",
              "          google.colab.kernel.accessAllowed ? 'block' : 'none';\n",
              "\n",
              "        async function convertToInteractive(key) {\n",
              "          const element = document.querySelector('#df-e32dc19e-583f-4d0e-abfc-4c4c6dc2cbeb');\n",
              "          const dataTable =\n",
              "            await google.colab.kernel.invokeFunction('convertToInteractive',\n",
              "                                                     [key], {});\n",
              "          if (!dataTable) return;\n",
              "\n",
              "          const docLinkHtml = 'Like what you see? Visit the ' +\n",
              "            '<a target=\"_blank\" href=https://colab.research.google.com/notebooks/data_table.ipynb>data table notebook</a>'\n",
              "            + ' to learn more about interactive tables.';\n",
              "          element.innerHTML = '';\n",
              "          dataTable['output_type'] = 'display_data';\n",
              "          await google.colab.output.renderOutput(dataTable, element);\n",
              "          const docLink = document.createElement('div');\n",
              "          docLink.innerHTML = docLinkHtml;\n",
              "          element.appendChild(docLink);\n",
              "        }\n",
              "      </script>\n",
              "    </div>\n",
              "  </div>\n",
              "  "
            ]
          },
          "metadata": {},
          "execution_count": 98
        }
      ]
    },
    {
      "cell_type": "code",
      "source": [
        "Data.select_dtypes('float64')"
      ],
      "metadata": {
        "colab": {
          "base_uri": "https://localhost:8080/",
          "height": 424
        },
        "id": "h10ma0G4TKxu",
        "outputId": "5153dea4-d4ba-41cb-d9e0-812b59b468dd"
      },
      "execution_count": 99,
      "outputs": [
        {
          "output_type": "execute_result",
          "data": {
            "text/plain": [
              "        Temp Change $^{\\circ}$C  x_heat_dist  y_heat_dist    std_140  \\\n",
              "0                           0.1        75.00         0.00   6.068788   \n",
              "1                           0.1        75.00         0.00   6.068788   \n",
              "2                           0.2        75.00         0.00   6.068788   \n",
              "3                           0.2        75.00         0.00   6.068788   \n",
              "4                           0.2        75.00         0.00   6.068788   \n",
              "...                         ...          ...          ...        ...   \n",
              "107437                     65.2        18.75        18.75  20.285736   \n",
              "107438                     65.5        18.75        18.75  20.285736   \n",
              "107439                     65.7        18.75        18.75  20.285736   \n",
              "107440                     65.9        18.75        18.75  20.285736   \n",
              "107441                     66.1        18.75        18.75  20.285736   \n",
              "\n",
              "             mean  median  heat_mat_temp  amb_1  amb_2  amb_3  \n",
              "0        0.218182     0.1           29.8   24.5   24.3   24.2  \n",
              "1        0.265455     0.1           30.5   24.5   24.3   24.2  \n",
              "2        0.309091     0.1           31.0   24.5   24.3   24.2  \n",
              "3        0.369091     0.1           31.5   24.5   24.3   24.2  \n",
              "4        0.438182     0.1           32.1   24.5   24.3   24.2  \n",
              "...           ...     ...            ...    ...    ...    ...  \n",
              "107437  13.754717     0.6           80.3   24.0   23.9   23.8  \n",
              "107438  13.815094     0.6           80.2   24.0   24.0   23.8  \n",
              "107439  13.873585     0.6           80.0   24.0   24.0   23.8  \n",
              "107440  13.924528     0.6           79.8   24.0   24.0   23.8  \n",
              "107441  13.971698     0.6           79.8   24.0   24.0   23.8  \n",
              "\n",
              "[107442 rows x 10 columns]"
            ],
            "text/html": [
              "\n",
              "  <div id=\"df-eff8538e-4bb8-401a-8ee5-9292c172cfa5\">\n",
              "    <div class=\"colab-df-container\">\n",
              "      <div>\n",
              "<style scoped>\n",
              "    .dataframe tbody tr th:only-of-type {\n",
              "        vertical-align: middle;\n",
              "    }\n",
              "\n",
              "    .dataframe tbody tr th {\n",
              "        vertical-align: top;\n",
              "    }\n",
              "\n",
              "    .dataframe thead th {\n",
              "        text-align: right;\n",
              "    }\n",
              "</style>\n",
              "<table border=\"1\" class=\"dataframe\">\n",
              "  <thead>\n",
              "    <tr style=\"text-align: right;\">\n",
              "      <th></th>\n",
              "      <th>Temp Change $^{\\circ}$C</th>\n",
              "      <th>x_heat_dist</th>\n",
              "      <th>y_heat_dist</th>\n",
              "      <th>std_140</th>\n",
              "      <th>mean</th>\n",
              "      <th>median</th>\n",
              "      <th>heat_mat_temp</th>\n",
              "      <th>amb_1</th>\n",
              "      <th>amb_2</th>\n",
              "      <th>amb_3</th>\n",
              "    </tr>\n",
              "  </thead>\n",
              "  <tbody>\n",
              "    <tr>\n",
              "      <th>0</th>\n",
              "      <td>0.1</td>\n",
              "      <td>75.00</td>\n",
              "      <td>0.00</td>\n",
              "      <td>6.068788</td>\n",
              "      <td>0.218182</td>\n",
              "      <td>0.1</td>\n",
              "      <td>29.8</td>\n",
              "      <td>24.5</td>\n",
              "      <td>24.3</td>\n",
              "      <td>24.2</td>\n",
              "    </tr>\n",
              "    <tr>\n",
              "      <th>1</th>\n",
              "      <td>0.1</td>\n",
              "      <td>75.00</td>\n",
              "      <td>0.00</td>\n",
              "      <td>6.068788</td>\n",
              "      <td>0.265455</td>\n",
              "      <td>0.1</td>\n",
              "      <td>30.5</td>\n",
              "      <td>24.5</td>\n",
              "      <td>24.3</td>\n",
              "      <td>24.2</td>\n",
              "    </tr>\n",
              "    <tr>\n",
              "      <th>2</th>\n",
              "      <td>0.2</td>\n",
              "      <td>75.00</td>\n",
              "      <td>0.00</td>\n",
              "      <td>6.068788</td>\n",
              "      <td>0.309091</td>\n",
              "      <td>0.1</td>\n",
              "      <td>31.0</td>\n",
              "      <td>24.5</td>\n",
              "      <td>24.3</td>\n",
              "      <td>24.2</td>\n",
              "    </tr>\n",
              "    <tr>\n",
              "      <th>3</th>\n",
              "      <td>0.2</td>\n",
              "      <td>75.00</td>\n",
              "      <td>0.00</td>\n",
              "      <td>6.068788</td>\n",
              "      <td>0.369091</td>\n",
              "      <td>0.1</td>\n",
              "      <td>31.5</td>\n",
              "      <td>24.5</td>\n",
              "      <td>24.3</td>\n",
              "      <td>24.2</td>\n",
              "    </tr>\n",
              "    <tr>\n",
              "      <th>4</th>\n",
              "      <td>0.2</td>\n",
              "      <td>75.00</td>\n",
              "      <td>0.00</td>\n",
              "      <td>6.068788</td>\n",
              "      <td>0.438182</td>\n",
              "      <td>0.1</td>\n",
              "      <td>32.1</td>\n",
              "      <td>24.5</td>\n",
              "      <td>24.3</td>\n",
              "      <td>24.2</td>\n",
              "    </tr>\n",
              "    <tr>\n",
              "      <th>...</th>\n",
              "      <td>...</td>\n",
              "      <td>...</td>\n",
              "      <td>...</td>\n",
              "      <td>...</td>\n",
              "      <td>...</td>\n",
              "      <td>...</td>\n",
              "      <td>...</td>\n",
              "      <td>...</td>\n",
              "      <td>...</td>\n",
              "      <td>...</td>\n",
              "    </tr>\n",
              "    <tr>\n",
              "      <th>107437</th>\n",
              "      <td>65.2</td>\n",
              "      <td>18.75</td>\n",
              "      <td>18.75</td>\n",
              "      <td>20.285736</td>\n",
              "      <td>13.754717</td>\n",
              "      <td>0.6</td>\n",
              "      <td>80.3</td>\n",
              "      <td>24.0</td>\n",
              "      <td>23.9</td>\n",
              "      <td>23.8</td>\n",
              "    </tr>\n",
              "    <tr>\n",
              "      <th>107438</th>\n",
              "      <td>65.5</td>\n",
              "      <td>18.75</td>\n",
              "      <td>18.75</td>\n",
              "      <td>20.285736</td>\n",
              "      <td>13.815094</td>\n",
              "      <td>0.6</td>\n",
              "      <td>80.2</td>\n",
              "      <td>24.0</td>\n",
              "      <td>24.0</td>\n",
              "      <td>23.8</td>\n",
              "    </tr>\n",
              "    <tr>\n",
              "      <th>107439</th>\n",
              "      <td>65.7</td>\n",
              "      <td>18.75</td>\n",
              "      <td>18.75</td>\n",
              "      <td>20.285736</td>\n",
              "      <td>13.873585</td>\n",
              "      <td>0.6</td>\n",
              "      <td>80.0</td>\n",
              "      <td>24.0</td>\n",
              "      <td>24.0</td>\n",
              "      <td>23.8</td>\n",
              "    </tr>\n",
              "    <tr>\n",
              "      <th>107440</th>\n",
              "      <td>65.9</td>\n",
              "      <td>18.75</td>\n",
              "      <td>18.75</td>\n",
              "      <td>20.285736</td>\n",
              "      <td>13.924528</td>\n",
              "      <td>0.6</td>\n",
              "      <td>79.8</td>\n",
              "      <td>24.0</td>\n",
              "      <td>24.0</td>\n",
              "      <td>23.8</td>\n",
              "    </tr>\n",
              "    <tr>\n",
              "      <th>107441</th>\n",
              "      <td>66.1</td>\n",
              "      <td>18.75</td>\n",
              "      <td>18.75</td>\n",
              "      <td>20.285736</td>\n",
              "      <td>13.971698</td>\n",
              "      <td>0.6</td>\n",
              "      <td>79.8</td>\n",
              "      <td>24.0</td>\n",
              "      <td>24.0</td>\n",
              "      <td>23.8</td>\n",
              "    </tr>\n",
              "  </tbody>\n",
              "</table>\n",
              "<p>107442 rows × 10 columns</p>\n",
              "</div>\n",
              "      <button class=\"colab-df-convert\" onclick=\"convertToInteractive('df-eff8538e-4bb8-401a-8ee5-9292c172cfa5')\"\n",
              "              title=\"Convert this dataframe to an interactive table.\"\n",
              "              style=\"display:none;\">\n",
              "        \n",
              "  <svg xmlns=\"http://www.w3.org/2000/svg\" height=\"24px\"viewBox=\"0 0 24 24\"\n",
              "       width=\"24px\">\n",
              "    <path d=\"M0 0h24v24H0V0z\" fill=\"none\"/>\n",
              "    <path d=\"M18.56 5.44l.94 2.06.94-2.06 2.06-.94-2.06-.94-.94-2.06-.94 2.06-2.06.94zm-11 1L8.5 8.5l.94-2.06 2.06-.94-2.06-.94L8.5 2.5l-.94 2.06-2.06.94zm10 10l.94 2.06.94-2.06 2.06-.94-2.06-.94-.94-2.06-.94 2.06-2.06.94z\"/><path d=\"M17.41 7.96l-1.37-1.37c-.4-.4-.92-.59-1.43-.59-.52 0-1.04.2-1.43.59L10.3 9.45l-7.72 7.72c-.78.78-.78 2.05 0 2.83L4 21.41c.39.39.9.59 1.41.59.51 0 1.02-.2 1.41-.59l7.78-7.78 2.81-2.81c.8-.78.8-2.07 0-2.86zM5.41 20L4 18.59l7.72-7.72 1.47 1.35L5.41 20z\"/>\n",
              "  </svg>\n",
              "      </button>\n",
              "      \n",
              "  <style>\n",
              "    .colab-df-container {\n",
              "      display:flex;\n",
              "      flex-wrap:wrap;\n",
              "      gap: 12px;\n",
              "    }\n",
              "\n",
              "    .colab-df-convert {\n",
              "      background-color: #E8F0FE;\n",
              "      border: none;\n",
              "      border-radius: 50%;\n",
              "      cursor: pointer;\n",
              "      display: none;\n",
              "      fill: #1967D2;\n",
              "      height: 32px;\n",
              "      padding: 0 0 0 0;\n",
              "      width: 32px;\n",
              "    }\n",
              "\n",
              "    .colab-df-convert:hover {\n",
              "      background-color: #E2EBFA;\n",
              "      box-shadow: 0px 1px 2px rgba(60, 64, 67, 0.3), 0px 1px 3px 1px rgba(60, 64, 67, 0.15);\n",
              "      fill: #174EA6;\n",
              "    }\n",
              "\n",
              "    [theme=dark] .colab-df-convert {\n",
              "      background-color: #3B4455;\n",
              "      fill: #D2E3FC;\n",
              "    }\n",
              "\n",
              "    [theme=dark] .colab-df-convert:hover {\n",
              "      background-color: #434B5C;\n",
              "      box-shadow: 0px 1px 3px 1px rgba(0, 0, 0, 0.15);\n",
              "      filter: drop-shadow(0px 1px 2px rgba(0, 0, 0, 0.3));\n",
              "      fill: #FFFFFF;\n",
              "    }\n",
              "  </style>\n",
              "\n",
              "      <script>\n",
              "        const buttonEl =\n",
              "          document.querySelector('#df-eff8538e-4bb8-401a-8ee5-9292c172cfa5 button.colab-df-convert');\n",
              "        buttonEl.style.display =\n",
              "          google.colab.kernel.accessAllowed ? 'block' : 'none';\n",
              "\n",
              "        async function convertToInteractive(key) {\n",
              "          const element = document.querySelector('#df-eff8538e-4bb8-401a-8ee5-9292c172cfa5');\n",
              "          const dataTable =\n",
              "            await google.colab.kernel.invokeFunction('convertToInteractive',\n",
              "                                                     [key], {});\n",
              "          if (!dataTable) return;\n",
              "\n",
              "          const docLinkHtml = 'Like what you see? Visit the ' +\n",
              "            '<a target=\"_blank\" href=https://colab.research.google.com/notebooks/data_table.ipynb>data table notebook</a>'\n",
              "            + ' to learn more about interactive tables.';\n",
              "          element.innerHTML = '';\n",
              "          dataTable['output_type'] = 'display_data';\n",
              "          await google.colab.output.renderOutput(dataTable, element);\n",
              "          const docLink = document.createElement('div');\n",
              "          docLink.innerHTML = docLinkHtml;\n",
              "          element.appendChild(docLink);\n",
              "        }\n",
              "      </script>\n",
              "    </div>\n",
              "  </div>\n",
              "  "
            ]
          },
          "metadata": {},
          "execution_count": 99
        }
      ]
    },
    {
      "cell_type": "code",
      "source": [
        "Data.describe().T"
      ],
      "metadata": {
        "colab": {
          "base_uri": "https://localhost:8080/",
          "height": 426
        },
        "id": "cgr_uqGSTQIf",
        "outputId": "ee7ac993-c2fd-4dda-8191-e8d240b0f37e"
      },
      "execution_count": 100,
      "outputs": [
        {
          "output_type": "execute_result",
          "data": {
            "text/plain": [
              "                            count       mean        std        min        25%  \\\n",
              "Temp Change $^{\\circ}$C  107442.0  18.187659  21.021079   0.000000   0.400000   \n",
              "Time (s)                 107442.0  90.000000  40.702360  20.000000  55.000000   \n",
              "x_heat_dist              107442.0  68.848425  49.542825   0.000000  18.750000   \n",
              "y_heat_dist              107442.0  16.289370  12.939137   0.000000   0.000000   \n",
              "std_140                  107442.0  10.569543   8.912126   0.000000   0.306070   \n",
              "mean                     107442.0   8.079780   4.946017   0.103636   3.748889   \n",
              "median                   107442.0   0.467947   0.886194   0.000000   0.200000   \n",
              "heat_mat_temp            107442.0  60.561357  15.686395  28.000000  47.600000   \n",
              "amb_1                    107442.0  23.960164   0.426064  22.200000  23.900000   \n",
              "amb_2                    107442.0  23.870655   0.495041  22.000000  23.800000   \n",
              "amb_3                    107442.0  23.631237   0.479925  21.800000  23.600000   \n",
              "defect                   107442.0   0.803150   0.874304   0.000000   0.000000   \n",
              "\n",
              "                               50%         75%         max  \n",
              "Temp Change $^{\\circ}$C   7.100000   35.200000   70.100000  \n",
              "Time (s)                 90.000000  125.000000  160.000000  \n",
              "x_heat_dist              56.250000  112.500000  168.750000  \n",
              "y_heat_dist              18.750000   18.750000   37.500000  \n",
              "std_140                  14.379484   19.254083   21.566343  \n",
              "mean                      8.092000   12.021667   24.545161  \n",
              "median                    0.300000    0.500000   14.600000  \n",
              "heat_mat_temp            62.200000   75.400000   81.300000  \n",
              "amb_1                    24.100000   24.200000   24.600000  \n",
              "amb_2                    24.000000   24.100000   24.400000  \n",
              "amb_3                    23.700000   23.900000   24.200000  \n",
              "defect                    1.000000    1.000000    3.000000  "
            ],
            "text/html": [
              "\n",
              "  <div id=\"df-ac49937a-55e1-4e01-9d09-fbd186d69c76\">\n",
              "    <div class=\"colab-df-container\">\n",
              "      <div>\n",
              "<style scoped>\n",
              "    .dataframe tbody tr th:only-of-type {\n",
              "        vertical-align: middle;\n",
              "    }\n",
              "\n",
              "    .dataframe tbody tr th {\n",
              "        vertical-align: top;\n",
              "    }\n",
              "\n",
              "    .dataframe thead th {\n",
              "        text-align: right;\n",
              "    }\n",
              "</style>\n",
              "<table border=\"1\" class=\"dataframe\">\n",
              "  <thead>\n",
              "    <tr style=\"text-align: right;\">\n",
              "      <th></th>\n",
              "      <th>count</th>\n",
              "      <th>mean</th>\n",
              "      <th>std</th>\n",
              "      <th>min</th>\n",
              "      <th>25%</th>\n",
              "      <th>50%</th>\n",
              "      <th>75%</th>\n",
              "      <th>max</th>\n",
              "    </tr>\n",
              "  </thead>\n",
              "  <tbody>\n",
              "    <tr>\n",
              "      <th>Temp Change $^{\\circ}$C</th>\n",
              "      <td>107442.0</td>\n",
              "      <td>18.187659</td>\n",
              "      <td>21.021079</td>\n",
              "      <td>0.000000</td>\n",
              "      <td>0.400000</td>\n",
              "      <td>7.100000</td>\n",
              "      <td>35.200000</td>\n",
              "      <td>70.100000</td>\n",
              "    </tr>\n",
              "    <tr>\n",
              "      <th>Time (s)</th>\n",
              "      <td>107442.0</td>\n",
              "      <td>90.000000</td>\n",
              "      <td>40.702360</td>\n",
              "      <td>20.000000</td>\n",
              "      <td>55.000000</td>\n",
              "      <td>90.000000</td>\n",
              "      <td>125.000000</td>\n",
              "      <td>160.000000</td>\n",
              "    </tr>\n",
              "    <tr>\n",
              "      <th>x_heat_dist</th>\n",
              "      <td>107442.0</td>\n",
              "      <td>68.848425</td>\n",
              "      <td>49.542825</td>\n",
              "      <td>0.000000</td>\n",
              "      <td>18.750000</td>\n",
              "      <td>56.250000</td>\n",
              "      <td>112.500000</td>\n",
              "      <td>168.750000</td>\n",
              "    </tr>\n",
              "    <tr>\n",
              "      <th>y_heat_dist</th>\n",
              "      <td>107442.0</td>\n",
              "      <td>16.289370</td>\n",
              "      <td>12.939137</td>\n",
              "      <td>0.000000</td>\n",
              "      <td>0.000000</td>\n",
              "      <td>18.750000</td>\n",
              "      <td>18.750000</td>\n",
              "      <td>37.500000</td>\n",
              "    </tr>\n",
              "    <tr>\n",
              "      <th>std_140</th>\n",
              "      <td>107442.0</td>\n",
              "      <td>10.569543</td>\n",
              "      <td>8.912126</td>\n",
              "      <td>0.000000</td>\n",
              "      <td>0.306070</td>\n",
              "      <td>14.379484</td>\n",
              "      <td>19.254083</td>\n",
              "      <td>21.566343</td>\n",
              "    </tr>\n",
              "    <tr>\n",
              "      <th>mean</th>\n",
              "      <td>107442.0</td>\n",
              "      <td>8.079780</td>\n",
              "      <td>4.946017</td>\n",
              "      <td>0.103636</td>\n",
              "      <td>3.748889</td>\n",
              "      <td>8.092000</td>\n",
              "      <td>12.021667</td>\n",
              "      <td>24.545161</td>\n",
              "    </tr>\n",
              "    <tr>\n",
              "      <th>median</th>\n",
              "      <td>107442.0</td>\n",
              "      <td>0.467947</td>\n",
              "      <td>0.886194</td>\n",
              "      <td>0.000000</td>\n",
              "      <td>0.200000</td>\n",
              "      <td>0.300000</td>\n",
              "      <td>0.500000</td>\n",
              "      <td>14.600000</td>\n",
              "    </tr>\n",
              "    <tr>\n",
              "      <th>heat_mat_temp</th>\n",
              "      <td>107442.0</td>\n",
              "      <td>60.561357</td>\n",
              "      <td>15.686395</td>\n",
              "      <td>28.000000</td>\n",
              "      <td>47.600000</td>\n",
              "      <td>62.200000</td>\n",
              "      <td>75.400000</td>\n",
              "      <td>81.300000</td>\n",
              "    </tr>\n",
              "    <tr>\n",
              "      <th>amb_1</th>\n",
              "      <td>107442.0</td>\n",
              "      <td>23.960164</td>\n",
              "      <td>0.426064</td>\n",
              "      <td>22.200000</td>\n",
              "      <td>23.900000</td>\n",
              "      <td>24.100000</td>\n",
              "      <td>24.200000</td>\n",
              "      <td>24.600000</td>\n",
              "    </tr>\n",
              "    <tr>\n",
              "      <th>amb_2</th>\n",
              "      <td>107442.0</td>\n",
              "      <td>23.870655</td>\n",
              "      <td>0.495041</td>\n",
              "      <td>22.000000</td>\n",
              "      <td>23.800000</td>\n",
              "      <td>24.000000</td>\n",
              "      <td>24.100000</td>\n",
              "      <td>24.400000</td>\n",
              "    </tr>\n",
              "    <tr>\n",
              "      <th>amb_3</th>\n",
              "      <td>107442.0</td>\n",
              "      <td>23.631237</td>\n",
              "      <td>0.479925</td>\n",
              "      <td>21.800000</td>\n",
              "      <td>23.600000</td>\n",
              "      <td>23.700000</td>\n",
              "      <td>23.900000</td>\n",
              "      <td>24.200000</td>\n",
              "    </tr>\n",
              "    <tr>\n",
              "      <th>defect</th>\n",
              "      <td>107442.0</td>\n",
              "      <td>0.803150</td>\n",
              "      <td>0.874304</td>\n",
              "      <td>0.000000</td>\n",
              "      <td>0.000000</td>\n",
              "      <td>1.000000</td>\n",
              "      <td>1.000000</td>\n",
              "      <td>3.000000</td>\n",
              "    </tr>\n",
              "  </tbody>\n",
              "</table>\n",
              "</div>\n",
              "      <button class=\"colab-df-convert\" onclick=\"convertToInteractive('df-ac49937a-55e1-4e01-9d09-fbd186d69c76')\"\n",
              "              title=\"Convert this dataframe to an interactive table.\"\n",
              "              style=\"display:none;\">\n",
              "        \n",
              "  <svg xmlns=\"http://www.w3.org/2000/svg\" height=\"24px\"viewBox=\"0 0 24 24\"\n",
              "       width=\"24px\">\n",
              "    <path d=\"M0 0h24v24H0V0z\" fill=\"none\"/>\n",
              "    <path d=\"M18.56 5.44l.94 2.06.94-2.06 2.06-.94-2.06-.94-.94-2.06-.94 2.06-2.06.94zm-11 1L8.5 8.5l.94-2.06 2.06-.94-2.06-.94L8.5 2.5l-.94 2.06-2.06.94zm10 10l.94 2.06.94-2.06 2.06-.94-2.06-.94-.94-2.06-.94 2.06-2.06.94z\"/><path d=\"M17.41 7.96l-1.37-1.37c-.4-.4-.92-.59-1.43-.59-.52 0-1.04.2-1.43.59L10.3 9.45l-7.72 7.72c-.78.78-.78 2.05 0 2.83L4 21.41c.39.39.9.59 1.41.59.51 0 1.02-.2 1.41-.59l7.78-7.78 2.81-2.81c.8-.78.8-2.07 0-2.86zM5.41 20L4 18.59l7.72-7.72 1.47 1.35L5.41 20z\"/>\n",
              "  </svg>\n",
              "      </button>\n",
              "      \n",
              "  <style>\n",
              "    .colab-df-container {\n",
              "      display:flex;\n",
              "      flex-wrap:wrap;\n",
              "      gap: 12px;\n",
              "    }\n",
              "\n",
              "    .colab-df-convert {\n",
              "      background-color: #E8F0FE;\n",
              "      border: none;\n",
              "      border-radius: 50%;\n",
              "      cursor: pointer;\n",
              "      display: none;\n",
              "      fill: #1967D2;\n",
              "      height: 32px;\n",
              "      padding: 0 0 0 0;\n",
              "      width: 32px;\n",
              "    }\n",
              "\n",
              "    .colab-df-convert:hover {\n",
              "      background-color: #E2EBFA;\n",
              "      box-shadow: 0px 1px 2px rgba(60, 64, 67, 0.3), 0px 1px 3px 1px rgba(60, 64, 67, 0.15);\n",
              "      fill: #174EA6;\n",
              "    }\n",
              "\n",
              "    [theme=dark] .colab-df-convert {\n",
              "      background-color: #3B4455;\n",
              "      fill: #D2E3FC;\n",
              "    }\n",
              "\n",
              "    [theme=dark] .colab-df-convert:hover {\n",
              "      background-color: #434B5C;\n",
              "      box-shadow: 0px 1px 3px 1px rgba(0, 0, 0, 0.15);\n",
              "      filter: drop-shadow(0px 1px 2px rgba(0, 0, 0, 0.3));\n",
              "      fill: #FFFFFF;\n",
              "    }\n",
              "  </style>\n",
              "\n",
              "      <script>\n",
              "        const buttonEl =\n",
              "          document.querySelector('#df-ac49937a-55e1-4e01-9d09-fbd186d69c76 button.colab-df-convert');\n",
              "        buttonEl.style.display =\n",
              "          google.colab.kernel.accessAllowed ? 'block' : 'none';\n",
              "\n",
              "        async function convertToInteractive(key) {\n",
              "          const element = document.querySelector('#df-ac49937a-55e1-4e01-9d09-fbd186d69c76');\n",
              "          const dataTable =\n",
              "            await google.colab.kernel.invokeFunction('convertToInteractive',\n",
              "                                                     [key], {});\n",
              "          if (!dataTable) return;\n",
              "\n",
              "          const docLinkHtml = 'Like what you see? Visit the ' +\n",
              "            '<a target=\"_blank\" href=https://colab.research.google.com/notebooks/data_table.ipynb>data table notebook</a>'\n",
              "            + ' to learn more about interactive tables.';\n",
              "          element.innerHTML = '';\n",
              "          dataTable['output_type'] = 'display_data';\n",
              "          await google.colab.output.renderOutput(dataTable, element);\n",
              "          const docLink = document.createElement('div');\n",
              "          docLink.innerHTML = docLinkHtml;\n",
              "          element.appendChild(docLink);\n",
              "        }\n",
              "      </script>\n",
              "    </div>\n",
              "  </div>\n",
              "  "
            ]
          },
          "metadata": {},
          "execution_count": 100
        }
      ]
    },
    {
      "cell_type": "code",
      "source": [
        "import matplotlib.pyplot as plt"
      ],
      "metadata": {
        "id": "lFu05UqMTVye"
      },
      "execution_count": 101,
      "outputs": []
    },
    {
      "cell_type": "code",
      "source": [
        "Data.hist(figsize=(20,10));\n",
        "plt.show;"
      ],
      "metadata": {
        "colab": {
          "base_uri": "https://localhost:8080/",
          "height": 621
        },
        "id": "2SYIvaZ2Ty9_",
        "outputId": "bf337c1e-3f14-400b-c01e-20bc9c58c877"
      },
      "execution_count": 102,
      "outputs": [
        {
          "output_type": "display_data",
          "data": {
            "text/plain": [
              "<Figure size 1440x720 with 12 Axes>"
            ],
            "image/png": "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\n"
          },
          "metadata": {}
        }
      ]
    },
    {
      "cell_type": "code",
      "source": [
        "import seaborn as sns"
      ],
      "metadata": {
        "id": "1ss2jiAhU9lt"
      },
      "execution_count": 103,
      "outputs": []
    },
    {
      "cell_type": "code",
      "source": [
        "sns.boxplot(Data['defect'])"
      ],
      "metadata": {
        "colab": {
          "base_uri": "https://localhost:8080/",
          "height": 367
        },
        "id": "mT4TwjWyT5XF",
        "outputId": "12af89b2-a1b6-45da-8586-800dff40d489"
      },
      "execution_count": 104,
      "outputs": [
        {
          "output_type": "stream",
          "name": "stderr",
          "text": [
            "/usr/local/lib/python3.7/dist-packages/seaborn/_decorators.py:43: FutureWarning: Pass the following variable as a keyword arg: x. From version 0.12, the only valid positional argument will be `data`, and passing other arguments without an explicit keyword will result in an error or misinterpretation.\n",
            "  FutureWarning\n"
          ]
        },
        {
          "output_type": "execute_result",
          "data": {
            "text/plain": [
              "<matplotlib.axes._subplots.AxesSubplot at 0x7fd4c5f39790>"
            ]
          },
          "metadata": {},
          "execution_count": 104
        },
        {
          "output_type": "display_data",
          "data": {
            "text/plain": [
              "<Figure size 432x288 with 1 Axes>"
            ],
            "image/png": "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\n"
          },
          "metadata": {}
        }
      ]
    },
    {
      "cell_type": "markdown",
      "source": [
        "Data Modelling Using Machine Learning Algorithm (Support Vector Machining)"
      ],
      "metadata": {
        "id": "f6xpnJezV9g-"
      }
    },
    {
      "cell_type": "code",
      "source": [
        "from sklearn.model_selection import train_test_split\n",
        "from sklearn.preprocessing import StandardScaler"
      ],
      "metadata": {
        "id": "DJPeuBxkVyh_"
      },
      "execution_count": 105,
      "outputs": []
    },
    {
      "cell_type": "code",
      "source": [
        "#Split data into features and target.\n",
        "y = Data['defect']\n",
        "X = Data.drop(columns = 'defect')"
      ],
      "metadata": {
        "id": "ceKtWQs7XJdL"
      },
      "execution_count": 106,
      "outputs": []
    },
    {
      "cell_type": "code",
      "source": [
        "plt.figure(figsize=(20,10))\n",
        "sns.set(font_scale=1.4)\n",
        "sns.heatmap(X.corr(),annot=True, cmap='inferno', fmt='.2f', annot_kws={'size':14});"
      ],
      "metadata": {
        "colab": {
          "base_uri": "https://localhost:8080/",
          "height": 722
        },
        "id": "eWUwvqVWZdGJ",
        "outputId": "9663dc29-2687-41a8-887d-f4bc4194a684"
      },
      "execution_count": 107,
      "outputs": [
        {
          "output_type": "display_data",
          "data": {
            "text/plain": [
              "<Figure size 1440x720 with 2 Axes>"
            ],
            "image/png": "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\n"
          },
          "metadata": {}
        }
      ]
    },
    {
      "cell_type": "markdown",
      "source": [
        "1.As High Correlation occurs between amb_1, amb_2, amb_3 , it is recommended to keep any one among three and which is amb_3\n",
        "\n",
        "2.Even though Time(s) and heat_mat_temp is highly correlated, Keeping both features supports the context of experiment.\n",
        "\n",
        "3.mean , time(s) , heat_mat_temp is highly correlated and mean is eliminated here as it is derived from other features."
      ],
      "metadata": {
        "id": "AT9WLrCZaZD4"
      }
    },
    {
      "cell_type": "code",
      "source": [
        "X = X.drop(columns = ['amb_1','amb_2','mean'])"
      ],
      "metadata": {
        "id": "xc7Qv1JOaXZm"
      },
      "execution_count": 108,
      "outputs": []
    },
    {
      "cell_type": "code",
      "source": [
        "X.head()"
      ],
      "metadata": {
        "colab": {
          "base_uri": "https://localhost:8080/",
          "height": 206
        },
        "id": "8S-JdzTscWPP",
        "outputId": "36717342-549b-40d4-9a99-e5d0db28fcec"
      },
      "execution_count": 109,
      "outputs": [
        {
          "output_type": "execute_result",
          "data": {
            "text/plain": [
              "   Temp Change $^{\\circ}$C  Time (s)  x_heat_dist  y_heat_dist   std_140  \\\n",
              "0                      0.1        20         75.0          0.0  6.068788   \n",
              "1                      0.1        21         75.0          0.0  6.068788   \n",
              "2                      0.2        22         75.0          0.0  6.068788   \n",
              "3                      0.2        23         75.0          0.0  6.068788   \n",
              "4                      0.2        24         75.0          0.0  6.068788   \n",
              "\n",
              "   median  heat_mat_temp  amb_3  \n",
              "0     0.1           29.8   24.2  \n",
              "1     0.1           30.5   24.2  \n",
              "2     0.1           31.0   24.2  \n",
              "3     0.1           31.5   24.2  \n",
              "4     0.1           32.1   24.2  "
            ],
            "text/html": [
              "\n",
              "  <div id=\"df-70ab0112-066f-40de-8bf1-325205bed274\">\n",
              "    <div class=\"colab-df-container\">\n",
              "      <div>\n",
              "<style scoped>\n",
              "    .dataframe tbody tr th:only-of-type {\n",
              "        vertical-align: middle;\n",
              "    }\n",
              "\n",
              "    .dataframe tbody tr th {\n",
              "        vertical-align: top;\n",
              "    }\n",
              "\n",
              "    .dataframe thead th {\n",
              "        text-align: right;\n",
              "    }\n",
              "</style>\n",
              "<table border=\"1\" class=\"dataframe\">\n",
              "  <thead>\n",
              "    <tr style=\"text-align: right;\">\n",
              "      <th></th>\n",
              "      <th>Temp Change $^{\\circ}$C</th>\n",
              "      <th>Time (s)</th>\n",
              "      <th>x_heat_dist</th>\n",
              "      <th>y_heat_dist</th>\n",
              "      <th>std_140</th>\n",
              "      <th>median</th>\n",
              "      <th>heat_mat_temp</th>\n",
              "      <th>amb_3</th>\n",
              "    </tr>\n",
              "  </thead>\n",
              "  <tbody>\n",
              "    <tr>\n",
              "      <th>0</th>\n",
              "      <td>0.1</td>\n",
              "      <td>20</td>\n",
              "      <td>75.0</td>\n",
              "      <td>0.0</td>\n",
              "      <td>6.068788</td>\n",
              "      <td>0.1</td>\n",
              "      <td>29.8</td>\n",
              "      <td>24.2</td>\n",
              "    </tr>\n",
              "    <tr>\n",
              "      <th>1</th>\n",
              "      <td>0.1</td>\n",
              "      <td>21</td>\n",
              "      <td>75.0</td>\n",
              "      <td>0.0</td>\n",
              "      <td>6.068788</td>\n",
              "      <td>0.1</td>\n",
              "      <td>30.5</td>\n",
              "      <td>24.2</td>\n",
              "    </tr>\n",
              "    <tr>\n",
              "      <th>2</th>\n",
              "      <td>0.2</td>\n",
              "      <td>22</td>\n",
              "      <td>75.0</td>\n",
              "      <td>0.0</td>\n",
              "      <td>6.068788</td>\n",
              "      <td>0.1</td>\n",
              "      <td>31.0</td>\n",
              "      <td>24.2</td>\n",
              "    </tr>\n",
              "    <tr>\n",
              "      <th>3</th>\n",
              "      <td>0.2</td>\n",
              "      <td>23</td>\n",
              "      <td>75.0</td>\n",
              "      <td>0.0</td>\n",
              "      <td>6.068788</td>\n",
              "      <td>0.1</td>\n",
              "      <td>31.5</td>\n",
              "      <td>24.2</td>\n",
              "    </tr>\n",
              "    <tr>\n",
              "      <th>4</th>\n",
              "      <td>0.2</td>\n",
              "      <td>24</td>\n",
              "      <td>75.0</td>\n",
              "      <td>0.0</td>\n",
              "      <td>6.068788</td>\n",
              "      <td>0.1</td>\n",
              "      <td>32.1</td>\n",
              "      <td>24.2</td>\n",
              "    </tr>\n",
              "  </tbody>\n",
              "</table>\n",
              "</div>\n",
              "      <button class=\"colab-df-convert\" onclick=\"convertToInteractive('df-70ab0112-066f-40de-8bf1-325205bed274')\"\n",
              "              title=\"Convert this dataframe to an interactive table.\"\n",
              "              style=\"display:none;\">\n",
              "        \n",
              "  <svg xmlns=\"http://www.w3.org/2000/svg\" height=\"24px\"viewBox=\"0 0 24 24\"\n",
              "       width=\"24px\">\n",
              "    <path d=\"M0 0h24v24H0V0z\" fill=\"none\"/>\n",
              "    <path d=\"M18.56 5.44l.94 2.06.94-2.06 2.06-.94-2.06-.94-.94-2.06-.94 2.06-2.06.94zm-11 1L8.5 8.5l.94-2.06 2.06-.94-2.06-.94L8.5 2.5l-.94 2.06-2.06.94zm10 10l.94 2.06.94-2.06 2.06-.94-2.06-.94-.94-2.06-.94 2.06-2.06.94z\"/><path d=\"M17.41 7.96l-1.37-1.37c-.4-.4-.92-.59-1.43-.59-.52 0-1.04.2-1.43.59L10.3 9.45l-7.72 7.72c-.78.78-.78 2.05 0 2.83L4 21.41c.39.39.9.59 1.41.59.51 0 1.02-.2 1.41-.59l7.78-7.78 2.81-2.81c.8-.78.8-2.07 0-2.86zM5.41 20L4 18.59l7.72-7.72 1.47 1.35L5.41 20z\"/>\n",
              "  </svg>\n",
              "      </button>\n",
              "      \n",
              "  <style>\n",
              "    .colab-df-container {\n",
              "      display:flex;\n",
              "      flex-wrap:wrap;\n",
              "      gap: 12px;\n",
              "    }\n",
              "\n",
              "    .colab-df-convert {\n",
              "      background-color: #E8F0FE;\n",
              "      border: none;\n",
              "      border-radius: 50%;\n",
              "      cursor: pointer;\n",
              "      display: none;\n",
              "      fill: #1967D2;\n",
              "      height: 32px;\n",
              "      padding: 0 0 0 0;\n",
              "      width: 32px;\n",
              "    }\n",
              "\n",
              "    .colab-df-convert:hover {\n",
              "      background-color: #E2EBFA;\n",
              "      box-shadow: 0px 1px 2px rgba(60, 64, 67, 0.3), 0px 1px 3px 1px rgba(60, 64, 67, 0.15);\n",
              "      fill: #174EA6;\n",
              "    }\n",
              "\n",
              "    [theme=dark] .colab-df-convert {\n",
              "      background-color: #3B4455;\n",
              "      fill: #D2E3FC;\n",
              "    }\n",
              "\n",
              "    [theme=dark] .colab-df-convert:hover {\n",
              "      background-color: #434B5C;\n",
              "      box-shadow: 0px 1px 3px 1px rgba(0, 0, 0, 0.15);\n",
              "      filter: drop-shadow(0px 1px 2px rgba(0, 0, 0, 0.3));\n",
              "      fill: #FFFFFF;\n",
              "    }\n",
              "  </style>\n",
              "\n",
              "      <script>\n",
              "        const buttonEl =\n",
              "          document.querySelector('#df-70ab0112-066f-40de-8bf1-325205bed274 button.colab-df-convert');\n",
              "        buttonEl.style.display =\n",
              "          google.colab.kernel.accessAllowed ? 'block' : 'none';\n",
              "\n",
              "        async function convertToInteractive(key) {\n",
              "          const element = document.querySelector('#df-70ab0112-066f-40de-8bf1-325205bed274');\n",
              "          const dataTable =\n",
              "            await google.colab.kernel.invokeFunction('convertToInteractive',\n",
              "                                                     [key], {});\n",
              "          if (!dataTable) return;\n",
              "\n",
              "          const docLinkHtml = 'Like what you see? Visit the ' +\n",
              "            '<a target=\"_blank\" href=https://colab.research.google.com/notebooks/data_table.ipynb>data table notebook</a>'\n",
              "            + ' to learn more about interactive tables.';\n",
              "          element.innerHTML = '';\n",
              "          dataTable['output_type'] = 'display_data';\n",
              "          await google.colab.output.renderOutput(dataTable, element);\n",
              "          const docLink = document.createElement('div');\n",
              "          docLink.innerHTML = docLinkHtml;\n",
              "          element.appendChild(docLink);\n",
              "        }\n",
              "      </script>\n",
              "    </div>\n",
              "  </div>\n",
              "  "
            ]
          },
          "metadata": {},
          "execution_count": 109
        }
      ]
    },
    {
      "cell_type": "code",
      "source": [
        "plt.figure(figsize=(20,10))\n",
        "sns.set(font_scale=1.4)\n",
        "sns.heatmap(X.corr(),annot=True, cmap='inferno', fmt='.2f', annot_kws={'size':14});"
      ],
      "metadata": {
        "colab": {
          "base_uri": "https://localhost:8080/",
          "height": 609
        },
        "id": "9d30CEMQdU3Z",
        "outputId": "73a364ff-293d-4826-aafb-dbcbde24a84a"
      },
      "execution_count": 110,
      "outputs": [
        {
          "output_type": "display_data",
          "data": {
            "text/plain": [
              "<Figure size 1440x720 with 2 Axes>"
            ],
            "image/png": "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\n"
          },
          "metadata": {}
        }
      ]
    },
    {
      "cell_type": "code",
      "source": [
        "SS_scaler = StandardScaler() "
      ],
      "metadata": {
        "id": "6-9fYqF_WjMu"
      },
      "execution_count": 111,
      "outputs": []
    },
    {
      "cell_type": "code",
      "source": [
        "# Fit the standard scaler to the data.\n",
        "x_std = SS_scaler.fit_transform(X)"
      ],
      "metadata": {
        "id": "RU5BhMlMdi3H"
      },
      "execution_count": 112,
      "outputs": []
    },
    {
      "cell_type": "code",
      "source": [
        "print(x_std)"
      ],
      "metadata": {
        "colab": {
          "base_uri": "https://localhost:8080/"
        },
        "id": "bMv9IP3ld1_G",
        "outputId": "bcb6d63a-1c94-465d-a0fb-0c0c99e72fba"
      },
      "execution_count": 113,
      "outputs": [
        {
          "output_type": "stream",
          "name": "stdout",
          "text": [
            "[[-0.86045744 -1.71981001  0.12416739 ... -0.41520111 -1.9610306\n",
            "   1.1851127 ]\n",
            " [-0.86045744 -1.6952413   0.12416739 ... -0.41520111 -1.91640574\n",
            "   1.1851127 ]\n",
            " [-0.85570028 -1.67067258  0.12416739 ... -0.41520111 -1.88453083\n",
            "   1.1851127 ]\n",
            " ...\n",
            " [ 2.26023422  1.67067258 -1.01121925 ...  0.14901226  1.23920978\n",
            "   0.35164543]\n",
            " [ 2.26974853  1.6952413  -1.01121925 ...  0.14901226  1.22645982\n",
            "   0.35164543]\n",
            " [ 2.27926283  1.71981001 -1.01121925 ...  0.14901226  1.22645982\n",
            "   0.35164543]]\n"
          ]
        }
      ]
    },
    {
      "cell_type": "code",
      "source": [
        "x_std.shape"
      ],
      "metadata": {
        "colab": {
          "base_uri": "https://localhost:8080/"
        },
        "id": "YMGlGApXeAdg",
        "outputId": "33be4ca1-d4ec-4f7d-e0ed-abe4485e4749"
      },
      "execution_count": 114,
      "outputs": [
        {
          "output_type": "execute_result",
          "data": {
            "text/plain": [
              "(107442, 8)"
            ]
          },
          "metadata": {},
          "execution_count": 114
        }
      ]
    },
    {
      "cell_type": "code",
      "source": [
        "#Create training and test data.\n",
        "X_train, X_test, y_train, y_test = train_test_split(\n",
        "    x_std, y, test_size=0.2, random_state=42)"
      ],
      "metadata": {
        "id": "rf3RjGqVdjGX"
      },
      "execution_count": 115,
      "outputs": []
    },
    {
      "cell_type": "code",
      "source": [
        "print('Shape of X_train ', X_train.shape)\n",
        "print('Shape of X_test', X_test.shape)\n",
        "print('Shape of y_train', y_train.shape)\n",
        "print('Shape of y_test', y_test.shape)"
      ],
      "metadata": {
        "colab": {
          "base_uri": "https://localhost:8080/"
        },
        "id": "QIVDeqHYdvKo",
        "outputId": "33ea5e4a-5343-4957-c374-aafa747ada11"
      },
      "execution_count": 116,
      "outputs": [
        {
          "output_type": "stream",
          "name": "stdout",
          "text": [
            "Shape of X_train  (85953, 8)\n",
            "Shape of X_test (21489, 8)\n",
            "Shape of y_train (85953,)\n",
            "Shape of y_test (21489,)\n"
          ]
        }
      ]
    },
    {
      "cell_type": "code",
      "source": [
        "from sklearn import svm\n",
        "svc = svm.SVC(kernel='rbf', C=0.1,gamma=10).fit(X_train, y_train)\n",
        "y_pred = svc.predict(X_test)\n"
      ],
      "metadata": {
        "id": "Y6SMh6MkekrG"
      },
      "execution_count": 118,
      "outputs": []
    },
    {
      "cell_type": "code",
      "source": [
        "from sklearn.metrics import accuracy_score,multilabel_confusion_matrix\n",
        "print(\"svm model accuracy(in %):\", accuracy_score(y_test, y_pred)*100)"
      ],
      "metadata": {
        "colab": {
          "base_uri": "https://localhost:8080/"
        },
        "id": "V0Gk4Mf4gdz1",
        "outputId": "a9afe22f-7e0a-4081-ded5-057d8bd930ce"
      },
      "execution_count": 119,
      "outputs": [
        {
          "output_type": "stream",
          "name": "stdout",
          "text": [
            "svm model accuracy(in %): 88.90595188235841\n"
          ]
        }
      ]
    },
    {
      "cell_type": "code",
      "source": [
        "print(\"confusion_matrix\", multilabel_confusion_matrix(y_test, y_pred))"
      ],
      "metadata": {
        "colab": {
          "base_uri": "https://localhost:8080/"
        },
        "id": "YbFWZE4ug5s4",
        "outputId": "a05be816-5a28-4601-ff2f-0ceb0fcfa234"
      },
      "execution_count": 120,
      "outputs": [
        {
          "output_type": "stream",
          "name": "stdout",
          "text": [
            "confusion_matrix [[[10382  1610]\n",
            "  [  305  9192]]\n",
            "\n",
            " [[12830   565]\n",
            "  [  727  7367]]\n",
            "\n",
            " [[18802   143]\n",
            "  [ 1059  1485]]\n",
            "\n",
            " [[20069    66]\n",
            "  [  293  1061]]]\n"
          ]
        }
      ]
    },
    {
      "cell_type": "code",
      "source": [
        "import pickle\n",
        "pickle.dump(svc, open('svc_model.pkl','wb'))"
      ],
      "metadata": {
        "id": "Fz9KZPtaYUid"
      },
      "execution_count": 121,
      "outputs": []
    },
    {
      "cell_type": "markdown",
      "source": [
        "Hyper_parameter tuning"
      ],
      "metadata": {
        "id": "mLKA3FuUhQ-1"
      }
    },
    {
      "cell_type": "code",
      "source": [
        "from sklearn.svm import SVC\n",
        "from sklearn.model_selection import GridSearchCV\n",
        "param_grid = {'C': [0.01, 0.1, 1, 10, 100], \n",
        "              'gamma': [1, 0.1, 0.01, 0.001, 0.0001],\n",
        "              'kernel': ['linear','rbf','poly','sigmoid']}\n",
        "grid = GridSearchCV(SVC(), param_grid, refit = True, verbose = 3)\n",
        "grid.fit(X_train, y_train)"
      ],
      "metadata": {
        "colab": {
          "base_uri": "https://localhost:8080/"
        },
        "id": "NvHEAuRnhBEn",
        "outputId": "f9a646b7-2cda-4f8a-fffc-9dfb1f932e32"
      },
      "execution_count": null,
      "outputs": [
        {
          "output_type": "stream",
          "name": "stdout",
          "text": [
            "Fitting 5 folds for each of 100 candidates, totalling 500 fits\n"
          ]
        }
      ]
    },
    {
      "cell_type": "markdown",
      "source": [
        "Data Modelling using Deep Learning Algorithm (Artificial Neural Network)"
      ],
      "metadata": {
        "id": "y7sF04EBhmE_"
      }
    },
    {
      "cell_type": "code",
      "source": [
        "import tensorflow\n",
        "from tensorflow.keras.models import Sequential             # Sequential model relates to forward and back propagation\n",
        "from tensorflow.keras.layers import Dense                  # Dense layer relates to I/O,HL,O/T layer\n",
        "from tensorflow.keras.layers import ReLU                   # import Activation functions\n",
        "from tensorflow.keras.layers import Dropout                # import dropout layer"
      ],
      "metadata": {
        "id": "UqXyfXeKhidQ"
      },
      "execution_count": 66,
      "outputs": []
    },
    {
      "cell_type": "code",
      "source": [
        "Classifier = Sequential()                                  #Assigning classifier as sequential neural network model\n",
        "Classifier.add(Dense(units = 8, activation = 'relu'))     #Assigning Input layer as Dense layer\n",
        "Classifier.add(Dense(units = 100, activation = 'relu'))      #Assigning Hidden Layer 1\n",
        "Classifier.add(Dropout(0.3))                               #Addidng dropout layer\n",
        "Classifier.add(Dense(units = 100, activation = 'relu'))      #Assigning Hidden layer 2\n",
        "Classifier.add(Dense(units = 4, activation = 'softmax'))   #Assigning output layer"
      ],
      "metadata": {
        "id": "4bXiVhXfiHC-"
      },
      "execution_count": 67,
      "outputs": []
    },
    {
      "cell_type": "code",
      "source": [
        "#Compiling ANN\n",
        "Optimizer = tensorflow.keras.optimizers.Adam(learning_rate=0.001)\n",
        "Classifier.compile(optimizer=Optimizer,loss='sparse_categorical_crossentropy', metrics=['accuracy'])         \n",
        "#Classifier is ready to be trained and configured with learning_rate, cost_function and metrics"
      ],
      "metadata": {
        "id": "PJEMsIaZiNoi"
      },
      "execution_count": 71,
      "outputs": []
    },
    {
      "cell_type": "code",
      "source": [
        "#Early_Stopping:\n",
        "import tensorflow as tf\n",
        "early_stopping = tf.keras.callbacks.EarlyStopping(monitor='val_loss',min_delta=0.0001,patience = 20,verbose=1,mode='auto',baseline=None,restore_best_weights=False)"
      ],
      "metadata": {
        "id": "jkXYJhZIiQ9R"
      },
      "execution_count": 72,
      "outputs": []
    },
    {
      "cell_type": "code",
      "source": [
        "ANN_model = Classifier.fit(X_train,y_train,validation_split=0.33,batch_size=10, epochs=100, callbacks = early_stopping)"
      ],
      "metadata": {
        "colab": {
          "base_uri": "https://localhost:8080/"
        },
        "id": "6tqQWVTPicqg",
        "outputId": "739af348-46a6-4f98-d13a-edf0ce48701d"
      },
      "execution_count": 73,
      "outputs": [
        {
          "output_type": "stream",
          "name": "stdout",
          "text": [
            "Epoch 1/100\n",
            "5759/5759 [==============================] - 16s 3ms/step - loss: 0.8407 - accuracy: 0.6213 - val_loss: 0.6460 - val_accuracy: 0.7250\n",
            "Epoch 2/100\n",
            "5759/5759 [==============================] - 16s 3ms/step - loss: 0.6122 - accuracy: 0.7330 - val_loss: 0.5257 - val_accuracy: 0.7715\n",
            "Epoch 3/100\n",
            "5759/5759 [==============================] - 17s 3ms/step - loss: 0.5235 - accuracy: 0.7714 - val_loss: 0.4542 - val_accuracy: 0.8011\n",
            "Epoch 4/100\n",
            "5759/5759 [==============================] - 15s 3ms/step - loss: 0.4709 - accuracy: 0.7944 - val_loss: 0.4371 - val_accuracy: 0.8039\n",
            "Epoch 5/100\n",
            "5759/5759 [==============================] - 15s 3ms/step - loss: 0.4391 - accuracy: 0.8062 - val_loss: 0.3838 - val_accuracy: 0.8344\n",
            "Epoch 6/100\n",
            "5759/5759 [==============================] - 17s 3ms/step - loss: 0.4139 - accuracy: 0.8178 - val_loss: 0.3468 - val_accuracy: 0.8518\n",
            "Epoch 7/100\n",
            "5759/5759 [==============================] - 15s 3ms/step - loss: 0.3939 - accuracy: 0.8286 - val_loss: 0.3313 - val_accuracy: 0.8580\n",
            "Epoch 8/100\n",
            "5759/5759 [==============================] - 15s 3ms/step - loss: 0.3774 - accuracy: 0.8341 - val_loss: 0.3132 - val_accuracy: 0.8639\n",
            "Epoch 9/100\n",
            "5759/5759 [==============================] - 17s 3ms/step - loss: 0.3616 - accuracy: 0.8415 - val_loss: 0.3028 - val_accuracy: 0.8736\n",
            "Epoch 10/100\n",
            "5759/5759 [==============================] - 17s 3ms/step - loss: 0.3506 - accuracy: 0.8488 - val_loss: 0.2866 - val_accuracy: 0.8784\n",
            "Epoch 11/100\n",
            "5759/5759 [==============================] - 15s 3ms/step - loss: 0.3389 - accuracy: 0.8518 - val_loss: 0.2572 - val_accuracy: 0.8985\n",
            "Epoch 12/100\n",
            "5759/5759 [==============================] - 17s 3ms/step - loss: 0.3272 - accuracy: 0.8587 - val_loss: 0.2697 - val_accuracy: 0.8856\n",
            "Epoch 13/100\n",
            "5759/5759 [==============================] - 17s 3ms/step - loss: 0.3191 - accuracy: 0.8626 - val_loss: 0.2635 - val_accuracy: 0.8914\n",
            "Epoch 14/100\n",
            "5759/5759 [==============================] - 15s 3ms/step - loss: 0.3113 - accuracy: 0.8640 - val_loss: 0.2364 - val_accuracy: 0.9042\n",
            "Epoch 15/100\n",
            "5759/5759 [==============================] - 17s 3ms/step - loss: 0.3042 - accuracy: 0.8696 - val_loss: 0.2346 - val_accuracy: 0.9036\n",
            "Epoch 16/100\n",
            "5759/5759 [==============================] - 14s 3ms/step - loss: 0.2991 - accuracy: 0.8724 - val_loss: 0.2526 - val_accuracy: 0.8946\n",
            "Epoch 17/100\n",
            "5759/5759 [==============================] - 16s 3ms/step - loss: 0.2951 - accuracy: 0.8742 - val_loss: 0.2396 - val_accuracy: 0.9003\n",
            "Epoch 18/100\n",
            "5759/5759 [==============================] - 16s 3ms/step - loss: 0.2886 - accuracy: 0.8766 - val_loss: 0.2306 - val_accuracy: 0.8979\n",
            "Epoch 19/100\n",
            "5759/5759 [==============================] - 14s 2ms/step - loss: 0.2867 - accuracy: 0.8784 - val_loss: 0.2449 - val_accuracy: 0.8880\n",
            "Epoch 20/100\n",
            "5759/5759 [==============================] - 15s 3ms/step - loss: 0.2828 - accuracy: 0.8800 - val_loss: 0.2124 - val_accuracy: 0.9120\n",
            "Epoch 21/100\n",
            "5759/5759 [==============================] - 15s 3ms/step - loss: 0.2759 - accuracy: 0.8815 - val_loss: 0.2168 - val_accuracy: 0.9103\n",
            "Epoch 22/100\n",
            "5759/5759 [==============================] - 16s 3ms/step - loss: 0.2709 - accuracy: 0.8857 - val_loss: 0.2126 - val_accuracy: 0.9102\n",
            "Epoch 23/100\n",
            "5759/5759 [==============================] - 15s 3ms/step - loss: 0.2696 - accuracy: 0.8859 - val_loss: 0.2125 - val_accuracy: 0.9127\n",
            "Epoch 24/100\n",
            "5759/5759 [==============================] - 14s 2ms/step - loss: 0.2642 - accuracy: 0.8872 - val_loss: 0.1950 - val_accuracy: 0.9171\n",
            "Epoch 25/100\n",
            "5759/5759 [==============================] - 16s 3ms/step - loss: 0.2619 - accuracy: 0.8877 - val_loss: 0.2006 - val_accuracy: 0.9167\n",
            "Epoch 26/100\n",
            "5759/5759 [==============================] - 14s 3ms/step - loss: 0.2580 - accuracy: 0.8895 - val_loss: 0.1968 - val_accuracy: 0.9170\n",
            "Epoch 27/100\n",
            "5759/5759 [==============================] - 15s 3ms/step - loss: 0.2566 - accuracy: 0.8901 - val_loss: 0.1890 - val_accuracy: 0.9223\n",
            "Epoch 28/100\n",
            "5759/5759 [==============================] - 15s 3ms/step - loss: 0.2546 - accuracy: 0.8905 - val_loss: 0.1921 - val_accuracy: 0.9188\n",
            "Epoch 29/100\n",
            "5759/5759 [==============================] - 17s 3ms/step - loss: 0.2534 - accuracy: 0.8920 - val_loss: 0.2196 - val_accuracy: 0.9018\n",
            "Epoch 30/100\n",
            "5759/5759 [==============================] - 15s 3ms/step - loss: 0.2501 - accuracy: 0.8922 - val_loss: 0.1846 - val_accuracy: 0.9201\n",
            "Epoch 31/100\n",
            "5759/5759 [==============================] - 15s 3ms/step - loss: 0.2482 - accuracy: 0.8942 - val_loss: 0.1828 - val_accuracy: 0.9167\n",
            "Epoch 32/100\n",
            "5759/5759 [==============================] - 15s 3ms/step - loss: 0.2438 - accuracy: 0.8958 - val_loss: 0.1859 - val_accuracy: 0.9199\n",
            "Epoch 33/100\n",
            "5759/5759 [==============================] - 15s 3ms/step - loss: 0.2467 - accuracy: 0.8954 - val_loss: 0.1906 - val_accuracy: 0.9178\n",
            "Epoch 34/100\n",
            "5759/5759 [==============================] - 16s 3ms/step - loss: 0.2445 - accuracy: 0.8959 - val_loss: 0.1882 - val_accuracy: 0.9211\n",
            "Epoch 35/100\n",
            "5759/5759 [==============================] - 15s 3ms/step - loss: 0.2422 - accuracy: 0.8974 - val_loss: 0.1806 - val_accuracy: 0.9242\n",
            "Epoch 36/100\n",
            "5759/5759 [==============================] - 15s 3ms/step - loss: 0.2392 - accuracy: 0.8981 - val_loss: 0.1856 - val_accuracy: 0.9246\n",
            "Epoch 37/100\n",
            "5759/5759 [==============================] - 15s 3ms/step - loss: 0.2378 - accuracy: 0.8983 - val_loss: 0.1764 - val_accuracy: 0.9257\n",
            "Epoch 38/100\n",
            "5759/5759 [==============================] - 16s 3ms/step - loss: 0.2357 - accuracy: 0.9006 - val_loss: 0.1798 - val_accuracy: 0.9199\n",
            "Epoch 39/100\n",
            "5759/5759 [==============================] - 15s 3ms/step - loss: 0.2340 - accuracy: 0.9010 - val_loss: 0.1739 - val_accuracy: 0.9271\n",
            "Epoch 40/100\n",
            "5759/5759 [==============================] - 17s 3ms/step - loss: 0.2336 - accuracy: 0.9016 - val_loss: 0.1791 - val_accuracy: 0.9204\n",
            "Epoch 41/100\n",
            "5759/5759 [==============================] - 15s 3ms/step - loss: 0.2318 - accuracy: 0.9017 - val_loss: 0.1820 - val_accuracy: 0.9217\n",
            "Epoch 42/100\n",
            "5759/5759 [==============================] - 15s 3ms/step - loss: 0.2309 - accuracy: 0.9020 - val_loss: 0.1758 - val_accuracy: 0.9246\n",
            "Epoch 43/100\n",
            "5759/5759 [==============================] - 17s 3ms/step - loss: 0.2296 - accuracy: 0.9037 - val_loss: 0.1872 - val_accuracy: 0.9164\n",
            "Epoch 44/100\n",
            "5759/5759 [==============================] - 21s 4ms/step - loss: 0.2276 - accuracy: 0.9036 - val_loss: 0.1644 - val_accuracy: 0.9339\n",
            "Epoch 45/100\n",
            "5759/5759 [==============================] - 16s 3ms/step - loss: 0.2249 - accuracy: 0.9048 - val_loss: 0.1665 - val_accuracy: 0.9249\n",
            "Epoch 46/100\n",
            "5759/5759 [==============================] - 15s 3ms/step - loss: 0.2169 - accuracy: 0.9083 - val_loss: 0.1737 - val_accuracy: 0.9282\n",
            "Epoch 47/100\n",
            "5759/5759 [==============================] - 17s 3ms/step - loss: 0.2234 - accuracy: 0.9055 - val_loss: 0.1716 - val_accuracy: 0.9275\n",
            "Epoch 48/100\n",
            "5759/5759 [==============================] - 17s 3ms/step - loss: 0.2212 - accuracy: 0.9073 - val_loss: 0.1686 - val_accuracy: 0.9290\n",
            "Epoch 49/100\n",
            "5759/5759 [==============================] - 17s 3ms/step - loss: 0.2208 - accuracy: 0.9072 - val_loss: 0.1667 - val_accuracy: 0.9279\n",
            "Epoch 50/100\n",
            "5759/5759 [==============================] - 15s 3ms/step - loss: 0.2199 - accuracy: 0.9073 - val_loss: 0.1575 - val_accuracy: 0.9342\n",
            "Epoch 51/100\n",
            "5759/5759 [==============================] - 15s 3ms/step - loss: 0.2148 - accuracy: 0.9092 - val_loss: 0.1960 - val_accuracy: 0.9181\n",
            "Epoch 52/100\n",
            "5759/5759 [==============================] - 15s 3ms/step - loss: 0.2171 - accuracy: 0.9094 - val_loss: 0.1707 - val_accuracy: 0.9274\n",
            "Epoch 53/100\n",
            "5759/5759 [==============================] - 17s 3ms/step - loss: 0.2169 - accuracy: 0.9097 - val_loss: 0.1585 - val_accuracy: 0.9372\n",
            "Epoch 54/100\n",
            "5759/5759 [==============================] - 15s 3ms/step - loss: 0.2131 - accuracy: 0.9100 - val_loss: 0.1683 - val_accuracy: 0.9296\n",
            "Epoch 55/100\n",
            "5759/5759 [==============================] - 14s 3ms/step - loss: 0.2147 - accuracy: 0.9098 - val_loss: 0.1726 - val_accuracy: 0.9281\n",
            "Epoch 56/100\n",
            "5759/5759 [==============================] - 17s 3ms/step - loss: 0.2139 - accuracy: 0.9091 - val_loss: 0.1770 - val_accuracy: 0.9237\n",
            "Epoch 57/100\n",
            "5759/5759 [==============================] - 17s 3ms/step - loss: 0.2120 - accuracy: 0.9108 - val_loss: 0.1673 - val_accuracy: 0.9277\n",
            "Epoch 58/100\n",
            "5759/5759 [==============================] - 15s 3ms/step - loss: 0.2123 - accuracy: 0.9108 - val_loss: 0.1678 - val_accuracy: 0.9278\n",
            "Epoch 59/100\n",
            "5759/5759 [==============================] - 18s 3ms/step - loss: 0.2111 - accuracy: 0.9120 - val_loss: 0.1478 - val_accuracy: 0.9407\n",
            "Epoch 60/100\n",
            "5759/5759 [==============================] - 15s 3ms/step - loss: 0.2110 - accuracy: 0.9137 - val_loss: 0.1505 - val_accuracy: 0.9392\n",
            "Epoch 61/100\n",
            "5759/5759 [==============================] - 15s 3ms/step - loss: 0.2098 - accuracy: 0.9125 - val_loss: 0.1582 - val_accuracy: 0.9365\n",
            "Epoch 62/100\n",
            "5759/5759 [==============================] - 15s 3ms/step - loss: 0.2110 - accuracy: 0.9117 - val_loss: 0.1487 - val_accuracy: 0.9369\n",
            "Epoch 63/100\n",
            "5759/5759 [==============================] - 17s 3ms/step - loss: 0.2056 - accuracy: 0.9126 - val_loss: 0.1556 - val_accuracy: 0.9372\n",
            "Epoch 64/100\n",
            "5759/5759 [==============================] - 17s 3ms/step - loss: 0.2067 - accuracy: 0.9129 - val_loss: 0.1667 - val_accuracy: 0.9262\n",
            "Epoch 65/100\n",
            "5759/5759 [==============================] - 17s 3ms/step - loss: 0.2078 - accuracy: 0.9132 - val_loss: 0.1588 - val_accuracy: 0.9332\n",
            "Epoch 66/100\n",
            "5759/5759 [==============================] - 15s 3ms/step - loss: 0.2052 - accuracy: 0.9154 - val_loss: 0.1787 - val_accuracy: 0.9234\n",
            "Epoch 67/100\n",
            "5759/5759 [==============================] - 17s 3ms/step - loss: 0.2053 - accuracy: 0.9159 - val_loss: 0.1496 - val_accuracy: 0.9384\n",
            "Epoch 68/100\n",
            "5759/5759 [==============================] - 17s 3ms/step - loss: 0.2041 - accuracy: 0.9143 - val_loss: 0.1522 - val_accuracy: 0.9409\n",
            "Epoch 69/100\n",
            "5759/5759 [==============================] - 17s 3ms/step - loss: 0.2053 - accuracy: 0.9142 - val_loss: 0.1443 - val_accuracy: 0.9399\n",
            "Epoch 70/100\n",
            "5759/5759 [==============================] - 17s 3ms/step - loss: 0.2050 - accuracy: 0.9137 - val_loss: 0.1544 - val_accuracy: 0.9350\n",
            "Epoch 71/100\n",
            "5759/5759 [==============================] - 15s 3ms/step - loss: 0.2005 - accuracy: 0.9152 - val_loss: 0.1534 - val_accuracy: 0.9368\n",
            "Epoch 72/100\n",
            "5759/5759 [==============================] - 17s 3ms/step - loss: 0.2038 - accuracy: 0.9142 - val_loss: 0.1683 - val_accuracy: 0.9311\n",
            "Epoch 73/100\n",
            "5759/5759 [==============================] - 15s 3ms/step - loss: 0.1988 - accuracy: 0.9164 - val_loss: 0.1725 - val_accuracy: 0.9283\n",
            "Epoch 74/100\n",
            "5759/5759 [==============================] - 17s 3ms/step - loss: 0.1983 - accuracy: 0.9167 - val_loss: 0.1556 - val_accuracy: 0.9375\n",
            "Epoch 75/100\n",
            "5759/5759 [==============================] - 15s 3ms/step - loss: 0.2004 - accuracy: 0.9174 - val_loss: 0.1389 - val_accuracy: 0.9408\n",
            "Epoch 76/100\n",
            "5759/5759 [==============================] - 17s 3ms/step - loss: 0.1968 - accuracy: 0.9181 - val_loss: 0.1666 - val_accuracy: 0.9296\n",
            "Epoch 77/100\n",
            "5759/5759 [==============================] - 15s 3ms/step - loss: 0.2016 - accuracy: 0.9158 - val_loss: 0.1801 - val_accuracy: 0.9196\n",
            "Epoch 78/100\n",
            "5759/5759 [==============================] - 17s 3ms/step - loss: 0.1974 - accuracy: 0.9178 - val_loss: 0.1494 - val_accuracy: 0.9390\n",
            "Epoch 79/100\n",
            "5759/5759 [==============================] - 18s 3ms/step - loss: 0.1970 - accuracy: 0.9182 - val_loss: 0.1570 - val_accuracy: 0.9325\n",
            "Epoch 80/100\n",
            "5759/5759 [==============================] - 15s 3ms/step - loss: 0.1975 - accuracy: 0.9184 - val_loss: 0.1720 - val_accuracy: 0.9305\n",
            "Epoch 81/100\n",
            "5759/5759 [==============================] - 17s 3ms/step - loss: 0.1958 - accuracy: 0.9189 - val_loss: 0.1585 - val_accuracy: 0.9324\n",
            "Epoch 82/100\n",
            "5759/5759 [==============================] - 17s 3ms/step - loss: 0.1974 - accuracy: 0.9182 - val_loss: 0.1559 - val_accuracy: 0.9334\n",
            "Epoch 83/100\n",
            "5759/5759 [==============================] - 16s 3ms/step - loss: 0.1938 - accuracy: 0.9203 - val_loss: 0.1509 - val_accuracy: 0.9352\n",
            "Epoch 84/100\n",
            "5759/5759 [==============================] - 17s 3ms/step - loss: 0.1955 - accuracy: 0.9178 - val_loss: 0.1426 - val_accuracy: 0.9411\n",
            "Epoch 85/100\n",
            "5759/5759 [==============================] - 15s 3ms/step - loss: 0.1957 - accuracy: 0.9182 - val_loss: 0.1485 - val_accuracy: 0.9377\n",
            "Epoch 86/100\n",
            "5759/5759 [==============================] - 15s 3ms/step - loss: 0.1937 - accuracy: 0.9188 - val_loss: 0.1477 - val_accuracy: 0.9352\n",
            "Epoch 87/100\n",
            "5759/5759 [==============================] - 17s 3ms/step - loss: 0.1932 - accuracy: 0.9194 - val_loss: 0.1478 - val_accuracy: 0.9387\n",
            "Epoch 88/100\n",
            "5759/5759 [==============================] - 17s 3ms/step - loss: 0.1906 - accuracy: 0.9208 - val_loss: 0.1486 - val_accuracy: 0.9358\n",
            "Epoch 89/100\n",
            "5759/5759 [==============================] - 17s 3ms/step - loss: 0.1883 - accuracy: 0.9210 - val_loss: 0.1562 - val_accuracy: 0.9325\n",
            "Epoch 90/100\n",
            "5759/5759 [==============================] - 15s 3ms/step - loss: 0.1928 - accuracy: 0.9192 - val_loss: 0.1506 - val_accuracy: 0.9361\n",
            "Epoch 91/100\n",
            "5759/5759 [==============================] - 15s 3ms/step - loss: 0.1934 - accuracy: 0.9192 - val_loss: 0.1366 - val_accuracy: 0.9423\n",
            "Epoch 92/100\n",
            "5759/5759 [==============================] - 17s 3ms/step - loss: 0.1887 - accuracy: 0.9222 - val_loss: 0.1363 - val_accuracy: 0.9471\n",
            "Epoch 93/100\n",
            "5759/5759 [==============================] - 15s 3ms/step - loss: 0.1871 - accuracy: 0.9222 - val_loss: 0.1567 - val_accuracy: 0.9305\n",
            "Epoch 94/100\n",
            "5759/5759 [==============================] - 15s 3ms/step - loss: 0.1897 - accuracy: 0.9215 - val_loss: 0.1305 - val_accuracy: 0.9463\n",
            "Epoch 95/100\n",
            "5759/5759 [==============================] - 17s 3ms/step - loss: 0.1889 - accuracy: 0.9217 - val_loss: 0.1415 - val_accuracy: 0.9405\n",
            "Epoch 96/100\n",
            "5759/5759 [==============================] - 15s 3ms/step - loss: 0.1854 - accuracy: 0.9227 - val_loss: 0.1637 - val_accuracy: 0.9244\n",
            "Epoch 97/100\n",
            "5759/5759 [==============================] - 17s 3ms/step - loss: 0.1883 - accuracy: 0.9213 - val_loss: 0.1488 - val_accuracy: 0.9357\n",
            "Epoch 98/100\n",
            "5759/5759 [==============================] - 17s 3ms/step - loss: 0.1858 - accuracy: 0.9226 - val_loss: 0.1357 - val_accuracy: 0.9431\n",
            "Epoch 99/100\n",
            "5759/5759 [==============================] - 16s 3ms/step - loss: 0.1855 - accuracy: 0.9228 - val_loss: 0.1384 - val_accuracy: 0.9428\n",
            "Epoch 100/100\n",
            "5759/5759 [==============================] - 17s 3ms/step - loss: 0.1896 - accuracy: 0.9210 - val_loss: 0.1351 - val_accuracy: 0.9468\n"
          ]
        }
      ]
    },
    {
      "cell_type": "code",
      "source": [
        "ANN_model.history.keys()"
      ],
      "metadata": {
        "colab": {
          "base_uri": "https://localhost:8080/"
        },
        "id": "gDr9duq6iicv",
        "outputId": "7db3a264-e155-4da2-8047-53f483521f70"
      },
      "execution_count": 74,
      "outputs": [
        {
          "output_type": "execute_result",
          "data": {
            "text/plain": [
              "dict_keys(['loss', 'accuracy', 'val_loss', 'val_accuracy'])"
            ]
          },
          "metadata": {},
          "execution_count": 74
        }
      ]
    },
    {
      "cell_type": "code",
      "source": [
        "#Visualization\n",
        "plt.plot(ANN_model.history['accuracy'])\n",
        "plt.plot(ANN_model.history['val_accuracy'])\n",
        "plt.title('model_accuracy')\n",
        "plt.ylabel('accuracy')\n",
        "plt.xlabel('epoch')\n",
        "plt.legend(['train','validation'],loc='upper right')\n",
        "plt.show()"
      ],
      "metadata": {
        "colab": {
          "base_uri": "https://localhost:8080/",
          "height": 315
        },
        "id": "-P59bUDxilMO",
        "outputId": "646d1180-a8b1-4396-a7d1-1cfe0e24d5a8"
      },
      "execution_count": 75,
      "outputs": [
        {
          "output_type": "display_data",
          "data": {
            "text/plain": [
              "<Figure size 432x288 with 1 Axes>"
            ],
            "image/png": "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\n"
          },
          "metadata": {}
        }
      ]
    },
    {
      "cell_type": "code",
      "source": [
        "#Visualization\n",
        "plt.plot(ANN_model.history['loss'])\n",
        "plt.plot(ANN_model.history['val_loss'])\n",
        "plt.title('model_accuracy')\n",
        "plt.ylabel('loss')\n",
        "plt.xlabel('epoch')\n",
        "plt.legend(['train','validation'],loc='upper right')\n",
        "plt.show()"
      ],
      "metadata": {
        "colab": {
          "base_uri": "https://localhost:8080/",
          "height": 315
        },
        "id": "Zf7E_lidilzn",
        "outputId": "f9c4d4ed-a5d7-41d2-fdfd-86f8edba66ef"
      },
      "execution_count": 76,
      "outputs": [
        {
          "output_type": "display_data",
          "data": {
            "text/plain": [
              "<Figure size 432x288 with 1 Axes>"
            ],
            "image/png": "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\n"
          },
          "metadata": {}
        }
      ]
    },
    {
      "cell_type": "code",
      "source": [
        "#Evaluation_of_models\n",
        "y_pred = Classifier.predict(X_test)"
      ],
      "metadata": {
        "id": "6Di4_6YeioV3"
      },
      "execution_count": 77,
      "outputs": []
    },
    {
      "cell_type": "code",
      "source": [
        "y_pred"
      ],
      "metadata": {
        "colab": {
          "base_uri": "https://localhost:8080/"
        },
        "id": "0OYG4ifv8TWZ",
        "outputId": "6d3972d6-7c7a-4757-de41-aabbfa3eaa26"
      },
      "execution_count": 78,
      "outputs": [
        {
          "output_type": "execute_result",
          "data": {
            "text/plain": [
              "array([[1.3382456e-09, 9.9966383e-01, 3.3616976e-04, 7.0823981e-26],\n",
              "       [1.0000000e+00, 4.5650112e-23, 0.0000000e+00, 1.8300252e-27],\n",
              "       [9.9992216e-01, 8.1783744e-09, 6.9390844e-05, 8.4942485e-06],\n",
              "       ...,\n",
              "       [1.0923787e-06, 3.4949837e-05, 1.8531943e-04, 9.9977869e-01],\n",
              "       [8.8725138e-01, 2.3732627e-02, 8.9014590e-02, 1.3898699e-06],\n",
              "       [2.8715634e-05, 9.5683110e-01, 4.3139972e-02, 2.2708332e-07]],\n",
              "      dtype=float32)"
            ]
          },
          "metadata": {},
          "execution_count": 78
        }
      ]
    },
    {
      "cell_type": "code",
      "source": [
        "import numpy as np"
      ],
      "metadata": {
        "id": "aPtVy-gFQ-OU"
      },
      "execution_count": 79,
      "outputs": []
    },
    {
      "cell_type": "code",
      "source": [
        "y_pred_class = np.argmax(y_pred, axis=1)"
      ],
      "metadata": {
        "id": "PH2kRKzEQy38"
      },
      "execution_count": 80,
      "outputs": []
    },
    {
      "cell_type": "code",
      "source": [
        "from sklearn.metrics import multilabel_confusion_matrix,accuracy_score\n",
        "cm = multilabel_confusion_matrix(y_test,y_pred_class)\n",
        "accuracy_score = accuracy_score(y_test,y_pred_class)"
      ],
      "metadata": {
        "id": "rn09l6K3irpH"
      },
      "execution_count": 81,
      "outputs": []
    },
    {
      "cell_type": "code",
      "source": [
        "accuracy_score"
      ],
      "metadata": {
        "colab": {
          "base_uri": "https://localhost:8080/"
        },
        "id": "nC412TG0RG22",
        "outputId": "44d0c2b9-3995-42f1-bd69-0eb90ee2a518"
      },
      "execution_count": 82,
      "outputs": [
        {
          "output_type": "execute_result",
          "data": {
            "text/plain": [
              "0.9486248778444786"
            ]
          },
          "metadata": {},
          "execution_count": 82
        }
      ]
    },
    {
      "cell_type": "code",
      "source": [
        "cm"
      ],
      "metadata": {
        "colab": {
          "base_uri": "https://localhost:8080/"
        },
        "id": "XWNnO8R4RJhc",
        "outputId": "3f1b5d4e-f547-436d-a787-6116a4a9f48d"
      },
      "execution_count": 83,
      "outputs": [
        {
          "output_type": "execute_result",
          "data": {
            "text/plain": [
              "array([[[11740,   252],\n",
              "        [  576,  8921]],\n",
              "\n",
              "       [[12846,   549],\n",
              "        [  286,  7808]],\n",
              "\n",
              "       [[18686,   259],\n",
              "        [  185,  2359]],\n",
              "\n",
              "       [[20091,    44],\n",
              "        [   57,  1297]]])"
            ]
          },
          "metadata": {},
          "execution_count": 83
        }
      ]
    },
    {
      "cell_type": "code",
      "source": [
        "Classifier.get_weights()"
      ],
      "metadata": {
        "colab": {
          "base_uri": "https://localhost:8080/"
        },
        "id": "Hfe5D6jpiybA",
        "outputId": "e87003a1-cdec-429d-9470-7357752f64c8"
      },
      "execution_count": 84,
      "outputs": [
        {
          "output_type": "execute_result",
          "data": {
            "text/plain": [
              "[array([[ 3.4377210e-02, -1.2383338e-02, -1.1539976e-02,  5.2003996e-03,\n",
              "          5.2869517e-02, -5.1949699e-03, -4.0966172e-02, -2.0039532e-01],\n",
              "        [-1.7339070e-01,  3.7579099e-03, -7.0799254e-02, -5.2114032e-02,\n",
              "         -4.0340945e-02, -1.8781385e-01, -1.4670519e+00, -7.1958028e-02],\n",
              "        [-1.1858957e+00, -1.0825088e+00,  7.4711108e-01,  2.7998403e-01,\n",
              "          1.2171791e-01,  5.7814330e-01, -1.6335312e-01, -1.4618200e-01],\n",
              "        [ 7.0630044e-01, -6.2287283e-01,  2.6313218e-01, -4.4467226e-02,\n",
              "         -8.2437888e-02, -5.3267366e-01,  1.7681213e-01, -8.0837747e-03],\n",
              "        [-3.1827009e-01, -1.1507159e+00,  8.0888593e-01,  2.3942392e+00,\n",
              "         -8.5262617e-04,  2.2061498e-01, -1.8149959e-01, -2.3298216e+00],\n",
              "        [ 3.9287496e-01,  4.8766246e-01,  7.0553160e-01,  1.6512492e-01,\n",
              "          3.4738671e-02,  7.3847920e-02,  8.7558270e-02,  1.6059363e-01],\n",
              "        [ 9.0620637e-02, -6.3931055e-02, -7.0716001e-02,  2.3725655e-02,\n",
              "         -2.0279378e-02,  1.8631910e-01,  1.4826885e+00,  3.4647606e-02],\n",
              "        [-7.0076865e-01, -2.1079160e-01,  1.0881908e+00, -1.8642212e-01,\n",
              "          1.8454853e+00, -5.8727193e-01, -1.6798156e-01,  2.3581073e-01]],\n",
              "       dtype=float32),\n",
              " array([ 0.23288296,  0.5441846 ,  0.46066648, -0.81259435, -0.3760697 ,\n",
              "         0.13647021,  0.1609957 , -1.620765  ], dtype=float32),\n",
              " array([[ 5.20820022e-01, -1.46267578e-01, -1.07553706e-01,\n",
              "         -3.73860449e-02, -3.98593068e-01, -1.70542848e+00,\n",
              "          2.47177213e-01, -4.25786316e-01, -7.42851347e-02,\n",
              "         -5.19535303e-01,  2.03295410e-01, -3.41572905e+00,\n",
              "         -3.33381712e-01, -2.61543781e-01, -3.16378772e-01,\n",
              "         -1.40301481e-01, -1.69437587e+00,  1.47935227e-01,\n",
              "          2.40882158e-01, -4.00556386e-01, -2.51400322e-01,\n",
              "          7.82769442e-01,  1.82223797e-01,  7.08316982e-01,\n",
              "         -4.17864919e-01, -8.94139111e-01,  3.10800105e-01,\n",
              "         -3.01750565e+00,  1.93738565e-01,  5.80537558e-01,\n",
              "         -5.19309950e+00, -4.93213594e-01,  1.13071132e+00,\n",
              "         -4.12209183e-01, -4.62001473e-01, -1.07478797e-02,\n",
              "          1.26352042e-01, -5.17268740e-02, -4.31560606e-01,\n",
              "         -3.84735018e-01, -8.78046095e-01, -1.28448248e-01,\n",
              "         -2.08806425e-01, -1.49795204e-01,  4.38843548e-01,\n",
              "         -1.17992520e+00,  1.62488986e-02,  2.99965560e-01,\n",
              "         -5.36701322e-01,  7.41563320e-01,  2.55569935e-01,\n",
              "         -2.94129789e-01, -2.47174352e-02, -3.48095864e-01,\n",
              "          2.61068493e-01,  1.01622939e-01,  5.72990716e-01,\n",
              "         -1.75378814e-01,  9.52555418e-01, -2.35327497e-01,\n",
              "          5.03879309e-01,  8.04756209e-02, -3.80644107e+00,\n",
              "         -5.09445429e-01, -1.24190450e+00,  3.32746536e-01,\n",
              "         -1.96832514e+00, -1.00035869e-01, -8.23600709e-01,\n",
              "         -3.43593031e-01,  6.91717327e-01, -1.11056304e+00,\n",
              "          4.52560812e-01, -1.98819399e-01,  9.68427539e-01,\n",
              "          5.52739739e-01,  4.43672180e-01, -2.18119904e-01,\n",
              "          2.80462801e-01,  4.82313856e-02, -1.40619218e-01,\n",
              "         -4.39683020e-01, -1.86409324e-01,  4.16253209e-01,\n",
              "         -1.80208102e-01, -5.12369908e-02,  5.42308867e-01,\n",
              "         -6.83791816e-01,  9.84299704e-02,  1.60352603e-01,\n",
              "         -1.27432072e+00,  5.16903460e-01,  1.57147512e-01,\n",
              "          3.15899819e-01,  6.28607571e-02, -2.54473090e-01,\n",
              "         -1.22308046e-01,  2.11122006e-01, -9.35815051e-02,\n",
              "          4.39958498e-02],\n",
              "        [-3.45820397e-01, -3.63050729e-01,  1.63587939e-03,\n",
              "          3.38047370e-02, -2.68071562e-01, -3.81839186e-01,\n",
              "         -4.92614478e-01, -3.39786351e-01, -6.39060080e-01,\n",
              "         -4.15875793e-01, -2.68379003e-01,  4.06846195e-01,\n",
              "          3.27325016e-01, -3.66738826e-01, -4.75701869e-01,\n",
              "         -2.06028581e+00,  7.71315917e-02, -2.29448605e+00,\n",
              "         -2.84926248e+00, -5.37016630e-01, -2.09109053e-01,\n",
              "          7.06326365e-02,  1.04150422e-01, -2.37222567e-01,\n",
              "          2.13424116e-01, -2.95095026e-01,  4.02247250e-01,\n",
              "         -2.38559008e-01,  5.02621680e-02,  2.62988925e-01,\n",
              "         -1.14355147e+00,  1.08875617e-01, -3.37403804e-01,\n",
              "         -3.43703330e-01,  5.31592607e-01,  9.33080912e-02,\n",
              "         -1.90236270e+00,  1.86300710e-01,  4.68716592e-01,\n",
              "         -1.37104404e+00,  2.40007624e-01, -1.81164908e+00,\n",
              "          1.81527868e-01, -1.19514000e+00,  2.00876310e-01,\n",
              "          8.71989876e-03, -6.94872439e-01,  6.41335696e-02,\n",
              "          4.41693723e-01, -3.83862495e-01,  3.05637717e-01,\n",
              "         -1.83719921e+00, -6.33165389e-02, -4.89515066e-02,\n",
              "          4.91330832e-01, -7.27083832e-02,  3.19900304e-01,\n",
              "          1.14687666e-01, -1.55220121e-01, -2.53727376e-01,\n",
              "         -9.40229177e-01,  1.63741618e-01, -6.54829323e-01,\n",
              "         -3.79376352e-01, -1.54007182e-01, -2.35537246e-01,\n",
              "          6.75271869e-01, -3.09936464e-01, -1.85000613e-01,\n",
              "          3.17314655e-01, -1.05544560e-01, -1.51457623e-01,\n",
              "          1.15633897e-01, -1.22851975e-01, -1.22102320e-01,\n",
              "          2.22050473e-01,  2.47830316e-01, -9.77234006e-01,\n",
              "         -5.79939961e-01,  2.05474213e-01, -4.24186289e-02,\n",
              "         -6.50070887e-03, -5.26046336e-01,  1.71560600e-01,\n",
              "         -8.37463796e-01,  7.91575670e-01,  3.27537954e-01,\n",
              "         -4.62927252e-01,  1.91597909e-01, -1.27520466e+00,\n",
              "         -3.09244037e-01, -2.72018957e+00, -1.23258345e-01,\n",
              "         -1.20819044e+00,  6.57590747e-01,  2.84937173e-01,\n",
              "          8.27659220e-02,  6.26993924e-02, -3.76385361e-01,\n",
              "         -1.71603739e+00],\n",
              "        [ 3.02902669e-01, -4.14579183e-01, -5.71339205e-02,\n",
              "         -1.82207152e-01,  5.03035903e-01, -1.18341279e+00,\n",
              "         -2.92849988e-02, -2.05436066e-01,  2.91854620e-01,\n",
              "         -2.53383249e-01, -2.68119663e-01, -3.01524818e-01,\n",
              "          2.43297935e-01, -2.09246069e-01, -2.00833172e-01,\n",
              "         -5.41878581e-01,  7.90207088e-01,  3.54560375e-01,\n",
              "         -1.99979335e-01, -2.06517771e-01,  2.31507257e-01,\n",
              "          1.09548889e-01, -1.24002062e-01, -2.98212945e-01,\n",
              "         -1.68239146e-01,  1.15302396e+00,  1.68976158e-01,\n",
              "         -1.19051337e+00, -3.53469908e-01, -5.35010099e-01,\n",
              "         -2.78659672e-01, -2.08890513e-01, -2.29699180e-01,\n",
              "          4.99683678e-01, -1.22208402e-01,  2.82409757e-01,\n",
              "          1.15189862e+00,  4.74928856e-01, -7.46325403e-02,\n",
              "          5.38599312e-01,  3.54816228e-01, -9.75687087e-01,\n",
              "         -3.55947316e-01,  2.53048241e-01, -3.51483166e-01,\n",
              "          4.67150778e-01,  6.04763329e-01, -4.17037725e-01,\n",
              "         -1.20941184e-01, -5.98855615e-01,  1.71658248e-02,\n",
              "         -7.96277106e-01, -4.90598828e-02, -2.45601982e-01,\n",
              "         -1.98162243e-01, -2.61672974e-01, -2.03234506e+00,\n",
              "          1.14194199e-01, -5.95189869e-01, -3.96785945e-01,\n",
              "          4.23584968e-01,  3.58606011e-01, -1.83852315e-01,\n",
              "         -1.85044810e-01,  2.41631195e-01, -5.42870224e-01,\n",
              "         -1.07029736e+00, -4.80755299e-01,  1.09981513e+00,\n",
              "          1.68436736e-01, -2.95369655e-01,  5.55643022e-01,\n",
              "         -1.82027951e-01, -1.73824251e+00,  5.01541197e-01,\n",
              "         -5.51791251e-01,  6.90266341e-02, -9.72978175e-01,\n",
              "          1.66967228e-01,  1.47077711e-02,  2.70584840e-02,\n",
              "         -3.11129410e-02,  2.18969002e-01,  4.75744344e-03,\n",
              "          8.94904613e-01, -1.46147132e+00, -6.97543502e-01,\n",
              "         -4.17638481e-01,  3.90638322e-01, -4.87218589e-01,\n",
              "         -4.06050348e+00, -3.59577298e-01, -2.32512772e-01,\n",
              "          4.72284228e-01, -5.62932491e-01, -4.60682094e-01,\n",
              "          5.59884170e-03, -2.70736385e-02,  1.04708254e-01,\n",
              "         -1.21145797e+00],\n",
              "        [-6.47390366e-01,  1.01434040e+00, -1.34528920e-01,\n",
              "          1.17127573e+00, -6.74470782e-01, -2.78072691e+00,\n",
              "          8.05099666e-01,  3.07001561e-01,  1.09553468e+00,\n",
              "         -9.31187916e+00, -2.14842439e+00,  1.84742078e-01,\n",
              "         -1.60635805e+00, -1.92175418e-01,  5.75868368e-01,\n",
              "          1.03539419e+00, -3.24122399e-01,  6.48694262e-02,\n",
              "         -7.26366192e-02,  5.30697405e-01,  6.13562047e-01,\n",
              "         -3.08071542e+00,  9.21219766e-01, -3.20577055e-01,\n",
              "          1.12508297e+00, -2.71344870e-01, -2.49443269e+00,\n",
              "         -3.72261405e-01,  1.04713571e+00, -2.48489410e-01,\n",
              "          7.70184040e-01,  1.10999858e+00, -2.81551337e+00,\n",
              "          3.15551013e-01, -6.51489317e-01, -1.16242075e+00,\n",
              "          1.00958362e-01, -5.47010243e-01, -6.39162958e-01,\n",
              "          4.55764621e-01,  7.81976819e-01,  7.73292899e-01,\n",
              "          1.03900695e+00, -2.97977269e-01,  5.38526535e-01,\n",
              "         -3.67283076e-01, -1.07879423e-01,  8.76757860e-01,\n",
              "         -5.91336250e-01, -6.21720135e-01, -4.97956896e+00,\n",
              "          1.66040733e-01, -1.79646835e-01,  1.32691431e+00,\n",
              "         -1.42033565e+00,  1.21832263e+00, -7.16253281e-01,\n",
              "          3.26682270e-01, -3.44058347e+00, -5.61760128e-01,\n",
              "         -4.77596617e+00, -1.83318472e+00,  1.19307041e+00,\n",
              "          2.99138993e-01, -7.62249279e+00,  9.94464219e-01,\n",
              "         -2.03824773e-01,  6.87261283e-01, -6.59887373e-01,\n",
              "         -4.16182309e-01,  4.16174978e-02, -3.26284915e-01,\n",
              "          3.95594478e-01, -9.29984525e-02, -1.48800743e+00,\n",
              "          6.46866381e-01, -9.65076387e-01,  1.63334861e-01,\n",
              "         -9.44113433e-01, -8.75420272e-01, -2.38476068e-01,\n",
              "          1.20944524e+00,  9.40412104e-01, -8.59089315e-01,\n",
              "         -2.32313424e-01,  1.81479111e-01, -1.99257687e-01,\n",
              "         -3.90609242e-02, -1.29562891e+00,  8.92431557e-01,\n",
              "         -2.77341485e-01, -1.23346567e+00,  1.10947669e+00,\n",
              "         -3.50446016e-01,  8.09839785e-01,  9.04104784e-02,\n",
              "          4.39218074e-01,  8.88199687e-01,  3.80414069e-01,\n",
              "          4.33000356e-01],\n",
              "        [-1.73744178e+00,  7.57586896e-01, -1.39388248e-01,\n",
              "          7.52715245e-02, -5.25886774e-01,  3.63137513e-01,\n",
              "          7.95532167e-01,  4.41315919e-02,  3.03275347e-01,\n",
              "         -3.01511995e-02, -5.30720353e-01, -2.23844454e-01,\n",
              "          1.00434351e+00, -3.15438390e+00,  8.23613554e-02,\n",
              "          3.34515512e-01, -3.81302178e-01, -1.06212950e+00,\n",
              "         -3.35093915e-01,  3.96983214e-02, -9.27533031e-01,\n",
              "          6.49519145e-01,  5.45797944e-01, -3.60498142e+00,\n",
              "          1.86872512e-01, -2.87925422e-01,  4.45348084e-01,\n",
              "          2.58810639e-01, -1.81585461e-01, -7.89137125e-01,\n",
              "         -6.98602870e-02, -5.10007501e-01,  7.08514377e-02,\n",
              "         -1.65371358e-01,  2.46614143e-01,  9.06828582e-01,\n",
              "         -1.38364267e+00,  5.74541569e-01,  4.77153063e-02,\n",
              "         -6.23350918e-01, -1.07643902e+00,  7.55808532e-01,\n",
              "         -8.76669705e-01, -5.50975144e-01,  1.89323306e-01,\n",
              "         -8.64367783e-02, -5.12190485e+00,  6.13760240e-02,\n",
              "         -5.51306188e-01,  3.20538804e-02,  1.07275479e-01,\n",
              "          3.80622298e-01, -9.79325324e-02,  2.54812181e-01,\n",
              "          6.61167026e-01,  1.61924809e-01,  1.06137466e+00,\n",
              "         -7.94487655e-01,  7.37913072e-01,  1.66962817e-01,\n",
              "          1.50819689e-01,  2.61529744e-01, -1.01637609e-01,\n",
              "          1.03401773e-01, -2.04487234e-01,  4.73006785e-01,\n",
              "         -3.68303299e-01, -9.48910788e-02, -1.13324857e+00,\n",
              "          7.98069835e-01, -3.94065399e-03,  1.37852794e-02,\n",
              "         -4.78895277e-01,  1.48165852e-01, -3.91949832e-01,\n",
              "          2.96265036e-01,  8.33655477e-01,  3.70596468e-01,\n",
              "          2.36674994e-01, -3.32417071e-01, -2.36058414e-01,\n",
              "          1.24290079e-01, -2.16134414e-01,  1.15885866e+00,\n",
              "         -5.78011155e-01,  4.64430302e-01, -1.51321143e-01,\n",
              "         -1.59009850e+00,  5.54405928e-01,  1.01989961e+00,\n",
              "          7.48728812e-01,  8.30194414e-01,  4.94647443e-01,\n",
              "         -1.46686924e+00,  9.06906277e-02, -2.66781896e-01,\n",
              "          2.16882423e-01,  6.40755773e-01, -1.21633625e+00,\n",
              "          6.69352293e-01],\n",
              "        [-9.31665719e-01, -4.91052449e-01, -2.76889503e-01,\n",
              "         -5.87687492e-01,  9.24555063e-01,  1.62073933e-02,\n",
              "         -2.48436257e-01, -1.11778878e-01,  1.79627299e-01,\n",
              "         -4.81423229e-01, -3.87860350e-02,  6.96158409e-01,\n",
              "         -9.83857885e-02, -9.48707938e-01,  3.81310344e-01,\n",
              "          6.97188079e-01,  2.18061432e-01, -7.52663136e-01,\n",
              "          5.81898689e-01,  3.30002218e-01,  4.50790793e-01,\n",
              "          4.14422631e-01, -1.41511798e-01,  6.13216817e-01,\n",
              "         -6.18112803e-01,  2.66977549e-01,  5.48791932e-03,\n",
              "          2.82370597e-01, -6.53466702e-01,  8.40421736e-01,\n",
              "         -2.91244179e-01, -8.84177461e-02, -3.63795971e-03,\n",
              "         -1.07199979e+00,  5.67639172e-01,  6.48585558e-01,\n",
              "         -1.26430821e+00, -1.06102991e+00,  4.97810602e-01,\n",
              "          1.15543455e-01, -9.96172845e-01,  6.83002830e-01,\n",
              "          2.31190398e-01,  8.09180140e-01, -6.11223280e-01,\n",
              "          3.53506029e-01,  8.22987020e-01, -2.99328148e-01,\n",
              "          5.78556955e-01,  2.53999792e-02, -8.71871948e-01,\n",
              "         -9.55480859e-02, -2.05767542e-01,  3.94823903e-04,\n",
              "          3.04378062e-01, -5.11896133e-01, -5.97837448e-01,\n",
              "          9.43820551e-02, -1.28934324e-01,  3.87870759e-01,\n",
              "          8.66502404e-01,  5.72851002e-01, -6.32902861e-01,\n",
              "         -1.45444238e+00, -5.55765510e-01, -6.01613104e-01,\n",
              "          3.47553603e-02,  6.29475653e-01, -4.31170553e-01,\n",
              "          3.16557139e-01,  4.43236902e-02,  6.28225625e-01,\n",
              "         -8.67846191e-01, -7.80069530e-01, -8.37687552e-01,\n",
              "         -9.37062204e-01,  5.84082544e-01, -2.99785901e-02,\n",
              "         -4.34477121e-01, -1.88169837e-01, -8.46323445e-02,\n",
              "         -1.16700359e-01, -2.23703533e-01,  3.75933588e-01,\n",
              "          9.28325713e-01, -6.92965090e-01,  4.91208524e-01,\n",
              "         -1.26181531e+00,  5.19647717e-01, -1.62484180e-02,\n",
              "          1.28967777e-01,  9.80745435e-01, -5.50242603e-01,\n",
              "          3.96227658e-01, -6.01142049e-01,  4.35477763e-01,\n",
              "         -4.77212280e-01, -4.82223606e+00,  6.81709886e-01,\n",
              "          6.66763544e-01],\n",
              "        [ 1.23193100e-01, -4.62993756e-02, -1.38191909e-01,\n",
              "          1.07444569e-01, -1.35604829e-01,  5.89247763e-01,\n",
              "         -3.43364337e-03,  1.65808773e+00, -2.82731131e-02,\n",
              "          9.03987229e-01, -1.65084124e+00, -4.00338176e-04,\n",
              "          5.09597957e-01,  1.90098986e-01,  1.70250785e+00,\n",
              "         -1.82415187e-01,  2.54991621e-01, -3.97777781e-02,\n",
              "          3.96457374e-01,  1.76036549e+00, -8.94984627e+00,\n",
              "         -4.10811380e-02, -8.05350766e-02,  5.71899712e-01,\n",
              "          8.19453597e-02,  7.22829878e-01,  1.54653907e-01,\n",
              "          4.01002944e-01,  6.09406717e-02, -1.27221331e-01,\n",
              "          1.74409902e+00,  3.02399769e-02,  5.79213262e-01,\n",
              "          9.71903908e-04, -8.31496567e-02, -4.96114284e-01,\n",
              "          1.42609850e-02, -3.15933563e-02, -2.31549889e-01,\n",
              "         -4.79981363e-01, -1.52425721e-01, -1.50179118e-01,\n",
              "         -9.21070725e-02, -2.25428164e-01, -1.21842928e-01,\n",
              "          1.62359667e+00, -2.31485795e-02, -5.60423248e-02,\n",
              "         -4.63135466e-02,  1.76657028e-02,  4.05633986e-01,\n",
              "         -1.13372719e+00, -1.94256619e-01,  2.18988452e-02,\n",
              "          6.01641417e-01, -2.81882528e-02, -9.09090757e-01,\n",
              "         -5.34691620e+00,  4.92482409e-02,  9.92445350e-01,\n",
              "          6.53240681e-01,  9.50159580e-02,  1.21715307e+00,\n",
              "          1.70432901e+00,  1.51744962e-01, -7.65603920e-03,\n",
              "          1.49029223e-02, -5.64505279e-01,  1.04307497e+00,\n",
              "         -2.79814315e+00, -6.33438602e-02, -4.64739352e-01,\n",
              "          1.20932035e-01,  2.80518234e-02,  1.69874430e-01,\n",
              "         -4.83814329e-02, -6.26939610e-02, -7.66890123e-02,\n",
              "          1.41668260e+00,  1.15511186e-01, -7.51984343e-02,\n",
              "          3.27256098e-02, -1.14894666e-01, -8.57869685e-02,\n",
              "          7.05664605e-02,  1.58006281e-01, -1.62016451e-01,\n",
              "          1.61727026e-01,  8.07408392e-02, -1.14065222e-01,\n",
              "          7.05123395e-02,  2.88731843e-01, -1.04373075e-01,\n",
              "         -6.61879629e-02,  6.75573125e-02, -2.69054830e-01,\n",
              "          1.86271286e+00, -1.90175213e-02, -1.18810043e-01,\n",
              "         -2.39498362e-01],\n",
              "        [ 7.33840048e-01,  8.19909632e-01, -1.86097007e-02,\n",
              "         -1.64754391e-01, -4.05860931e-01, -6.34128690e-01,\n",
              "         -5.87230206e-01, -2.58419842e-01,  7.35398948e-01,\n",
              "         -3.49017113e-01,  1.07623875e-01, -1.12137175e+00,\n",
              "         -1.04480577e+00,  4.94902253e-01,  2.10120365e-01,\n",
              "          7.79482186e-01, -3.88014078e+00,  8.59071612e-01,\n",
              "          6.66449130e-01,  1.53066605e-01,  1.72110781e-01,\n",
              "          2.35088646e-01, -4.55796897e-01, -1.31403577e+00,\n",
              "         -2.27032527e-01, -9.58087921e-01, -3.49643779e+00,\n",
              "          2.46482696e-02,  4.23026860e-01, -5.74727118e-01,\n",
              "         -4.13817130e-02,  1.15120792e+00,  2.80466676e-01,\n",
              "         -6.24118567e-01, -1.49566996e+00, -2.03940344e+00,\n",
              "          8.09682071e-01,  2.23948985e-01, -7.82618141e+00,\n",
              "         -8.55014563e-01, -4.97908950e-01,  8.52651477e-01,\n",
              "          1.19958711e+00, -2.49183941e+00, -9.63597059e-01,\n",
              "         -6.74555361e-01, -2.88423443e+00,  1.49598289e+00,\n",
              "         -1.51397324e+00,  1.24981010e+00, -2.77843714e-01,\n",
              "         -2.72054124e+00, -2.22413078e-01, -3.73789102e-01,\n",
              "         -2.75754404e+00,  2.21763924e-01, -1.74324775e+00,\n",
              "          1.97133288e-01,  3.38621944e-01, -2.76643991e-01,\n",
              "         -3.29460889e-01, -2.75536132e+00,  4.42617387e-01,\n",
              "         -2.63381958e-01, -9.16225433e-01,  9.29357171e-01,\n",
              "          6.08528912e-01,  9.25982118e-01, -2.57518232e-01,\n",
              "         -6.52582467e-01,  1.32105207e+00, -2.60973120e+00,\n",
              "          6.72602415e-01,  5.69829382e-02,  3.99232894e-01,\n",
              "          1.43094754e+00, -2.51268363e+00,  6.92893445e-01,\n",
              "          2.21520782e-01, -9.18278396e-01, -3.43675679e-03,\n",
              "         -3.56464088e-01, -1.39163688e-01,  2.78949767e-01,\n",
              "         -8.09597671e-01,  1.04428537e-03, -1.85451877e+00,\n",
              "          4.81150031e-01, -3.16175508e+00,  3.73916268e-01,\n",
              "          8.12355995e-01, -8.01076651e-01, -1.67083070e-01,\n",
              "         -9.60000157e-01,  1.12887514e+00,  1.05797398e+00,\n",
              "         -3.49876094e+00,  8.92982483e-01, -4.30984020e+00,\n",
              "          8.38833988e-01]], dtype=float32),\n",
              " array([-0.36561456, -0.83063895, -0.08153971, -1.3905277 , -0.32193226,\n",
              "         0.99733967, -1.2802894 ,  0.05533964, -1.5445554 ,  0.6799171 ,\n",
              "         0.4385353 , -0.2795255 , -0.32647339,  0.04146731, -0.50552404,\n",
              "        -0.92776424,  0.00288905,  0.00712329,  0.03071815, -0.40134388,\n",
              "        -0.53666174, -0.8946792 , -1.351584  , -1.1988376 , -1.3618201 ,\n",
              "        -0.5344329 , -0.33916804,  0.34912813, -1.315888  , -1.0439178 ,\n",
              "         0.46265778, -1.1321913 , -0.240666  , -0.25705716,  0.11655142,\n",
              "        -0.83232814, -0.58982444, -0.7544754 ,  0.15304871, -0.07127493,\n",
              "        -0.2207848 , -0.29583982, -1.4489505 ,  0.61038345, -0.92077523,\n",
              "        -0.27785864,  0.09257261, -1.3050971 ,  0.22411884, -0.9224687 ,\n",
              "         0.12751554,  1.0034156 ,  0.        , -1.4201663 , -0.37719557,\n",
              "        -1.3672918 ,  0.19499692, -0.21366253, -0.3140847 ,  0.20503221,\n",
              "        -0.6527147 ,  0.08904389, -0.3253767 ,  0.05017857,  1.1166666 ,\n",
              "        -0.829123  , -0.9913079 , -0.9907413 ,  0.04849316, -0.41367668,\n",
              "        -1.2348865 ,  0.1681192 , -0.6208346 ,  0.62616706, -0.5878593 ,\n",
              "        -1.3068926 , -0.61121726,  0.43086675, -0.40745613,  0.7106272 ,\n",
              "        -0.09885462, -1.3212873 , -1.0990548 , -1.1848931 , -0.06508286,\n",
              "        -0.9493537 , -0.7865069 ,  0.4634354 , -0.03497236, -0.9247666 ,\n",
              "        -0.46561363,  0.00420219, -1.2908612 ,  0.24894688, -1.6213175 ,\n",
              "        -1.2056208 , -0.7043751 , -1.3747432 , -0.098012  ,  0.02770314],\n",
              "       dtype=float32),\n",
              " array([[ 1.19013631e+00, -2.61281341e-01, -3.18880397e-04, ...,\n",
              "         -2.30813161e-01, -3.47422004e-01,  2.08039135e-01],\n",
              "        [-2.88151443e-01, -7.39943311e-02,  2.24591345e-01, ...,\n",
              "         -7.67059612e+00, -4.63272482e-01, -2.86562979e-01],\n",
              "        [ 8.57567191e-02, -1.52406739e-02, -1.70280680e-01, ...,\n",
              "          1.58624072e-02,  1.14290118e-01,  8.92833397e-02],\n",
              "        ...,\n",
              "        [ 9.09109339e-02,  6.70038342e-01, -4.06290293e-01, ...,\n",
              "         -4.13771009e+00, -3.62464786e-02, -3.72661662e+00],\n",
              "        [-2.67771095e-01, -7.65602216e-02,  1.08359195e-01, ...,\n",
              "          9.62380320e-03,  1.11802660e-01,  2.70632684e-01],\n",
              "        [ 2.51757801e-01, -1.92188069e-01, -1.52673483e-01, ...,\n",
              "         -1.23830795e+00, -5.24288595e-01, -2.65448809e-01]], dtype=float32),\n",
              " array([ 0.16714649, -0.5019652 ,  1.3963217 , -0.51189315,  0.41534337,\n",
              "         0.2560145 , -0.15690002,  0.3807052 ,  0.6824093 , -1.1720318 ,\n",
              "         0.6577892 , -1.2165776 ,  0.18656018, -0.26972333, -0.00955914,\n",
              "        -0.3870131 ,  0.533451  ,  0.62707925,  0.55534565,  1.1031955 ,\n",
              "         0.19078931,  0.08376477,  1.0943232 ,  0.16180001, -0.39833146,\n",
              "        -0.11245925,  0.5408401 ,  0.69285315, -2.6999037 ,  0.9607469 ,\n",
              "        -0.1547977 ,  0.60315984,  0.06794264, -0.49676764, -0.43374208,\n",
              "         1.0766882 , -2.5522926 , -0.10104912, -1.3875219 , -2.2805016 ,\n",
              "        -0.29135555,  0.37882453, -1.9876176 ,  0.32760558,  0.5555529 ,\n",
              "         0.0221191 ,  0.968109  , -0.00851575,  0.47681552, -1.187092  ,\n",
              "        -0.6967441 , -0.72244036,  0.6135368 , -0.6440638 ,  0.02416736,\n",
              "         0.5673133 ,  0.35053375,  0.3365581 , -1.1451693 ,  0.0535583 ,\n",
              "        -0.5527391 , -0.15340538, -0.49864766, -0.4561143 , -0.48288983,\n",
              "         0.29572266,  1.02136   , -0.35691944,  0.7928233 ,  0.90960157,\n",
              "         0.5892975 ,  0.06911322,  0.5914628 ,  0.25117028, -0.5085855 ,\n",
              "         0.8889306 ,  0.9784379 , -2.063841  , -0.63275146, -0.3979969 ,\n",
              "         0.6282441 ,  0.04026582, -0.07702409,  0.3747249 , -0.347652  ,\n",
              "        -1.6894627 , -0.02495728,  0.67197484,  0.03724131,  0.04999224,\n",
              "        -0.2096593 ,  0.53088903, -1.511092  ,  0.02708101,  0.5035039 ,\n",
              "         0.02264525, -1.3938563 ,  0.29285145,  0.99098897,  0.33300665],\n",
              "       dtype=float32),\n",
              " array([[-1.2452574e-01,  2.9549366e-01, -6.6058195e-01, -3.0878971e+00],\n",
              "        [ 6.0638823e-02, -5.5873650e-01,  2.8561482e-01,  2.7910414e-01],\n",
              "        [-6.5861905e-01,  6.3189179e-01,  3.3282839e-02, -8.0817324e-01],\n",
              "        [-3.2792825e-01, -1.9316167e-01, -9.8335356e-01, -1.7686865e-01],\n",
              "        [ 3.4384537e-01, -4.3161052e-01,  5.2220345e-01, -1.0398848e+00],\n",
              "        [ 1.4285135e-01,  1.7134741e-01, -1.1296169e+00,  3.6125425e-01],\n",
              "        [-2.7239054e-01, -2.1637740e+00,  7.8071930e-02,  9.4254363e-01],\n",
              "        [-9.2700535e-01,  8.1405693e-01,  4.8490238e-01, -2.7427003e-03],\n",
              "        [ 2.4463069e+00, -1.2935189e+00, -2.3285508e+00, -9.5336837e-01],\n",
              "        [ 6.5480560e-01, -3.9467510e-02, -7.0862420e-02, -1.0286355e+00],\n",
              "        [ 2.8435338e-01, -2.8320831e-01, -4.4983500e-01, -2.3445010e-02],\n",
              "        [ 1.9671099e-01,  1.5728140e-01, -1.8544896e+00, -1.0513610e-01],\n",
              "        [ 1.3462391e-01,  9.5093086e-02, -2.6962274e-01, -4.1312343e-01],\n",
              "        [ 1.7869210e-01, -5.2661347e-01,  2.7293941e-01, -1.3457273e+00],\n",
              "        [-1.4656302e-01,  4.1374806e-01, -1.4800050e+00, -1.0571282e+00],\n",
              "        [ 8.2752571e-02,  1.8068087e-01, -1.9591692e-01, -5.3830057e-01],\n",
              "        [ 7.5426832e-02,  6.7716825e-01, -1.4520901e+00, -4.9213961e-01],\n",
              "        [-7.1890548e-02,  4.7394204e-01, -9.4625485e-01, -2.2272537e+00],\n",
              "        [-3.9869988e-01,  8.2439007e-03, -1.1358850e-01, -8.2370520e-01],\n",
              "        [ 3.3300897e-01, -8.1016713e-01,  3.2227373e-01,  5.0443488e-01],\n",
              "        [-2.7028090e-01,  5.1614857e-01,  3.0627090e-01, -6.8450183e-01],\n",
              "        [ 4.4519105e+00, -3.7320914e+00, -3.5683558e+00, -5.1428380e+00],\n",
              "        [-1.2446352e+00,  1.1013488e+00, -1.6678339e-01,  6.2845731e-01],\n",
              "        [ 1.3566944e-01, -5.2448589e-01,  2.2874589e-01, -3.7859166e-01],\n",
              "        [-9.9281274e-02, -4.3291956e-01,  2.5394917e-01, -1.1682415e+00],\n",
              "        [ 3.8602400e-01, -3.7225470e-01, -2.6877147e-01, -8.3851866e-02],\n",
              "        [-1.2291405e+00,  3.9164007e-01,  2.1461752e-01,  6.7864877e-01],\n",
              "        [-4.8085621e-01, -9.5818758e-01,  8.5727447e-01, -2.5442573e-01],\n",
              "        [ 6.7947939e-02,  9.6481882e-02,  6.4470738e-01, -5.0273685e+00],\n",
              "        [-3.8421372e-01,  5.1927656e-01, -1.1320856e+00,  8.9926094e-01],\n",
              "        [ 1.9585401e-01, -8.4090048e-01,  7.3761486e-02,  4.0081674e-01],\n",
              "        [ 1.9009475e-01, -9.9414819e-01,  2.6356667e-01,  3.3752322e-01],\n",
              "        [ 8.4873533e-01, -4.0114960e-01,  8.2479283e-02, -1.0926917e+00],\n",
              "        [ 1.1783778e-01,  1.9263732e-01,  2.9595384e-01, -3.9597402e+00],\n",
              "        [-8.7997037e-01, -3.9227411e-01,  5.6022364e-01,  5.2573520e-01],\n",
              "        [-2.3719561e-01, -7.6991802e-01,  6.5862393e-01,  8.9323660e-03],\n",
              "        [ 7.6437885e-01, -1.1026977e+00, -1.1862500e-01,  2.2115214e-01],\n",
              "        [ 5.0979242e-02, -3.2827873e-02,  9.4631404e-02, -1.8353556e+00],\n",
              "        [ 4.7824097e-01, -3.6702988e+00,  4.8027340e-01, -3.7541234e-01],\n",
              "        [ 7.5717703e-02,  1.2638363e-01, -2.0995264e+00, -9.5255315e-02],\n",
              "        [ 3.6915705e-01, -4.6060628e-01,  1.2535639e-01, -1.0880092e+00],\n",
              "        [-6.5382069e-01,  7.3018551e-01, -9.4683301e-01,  1.3441880e-01],\n",
              "        [ 4.6885550e-01, -5.8281529e-01, -8.7622690e-01,  4.2455810e-01],\n",
              "        [-7.0386189e-01,  1.0632993e+00, -8.9872849e-01, -8.4928316e-01],\n",
              "        [ 4.1685608e-01, -1.1077229e+00,  2.3722043e-02,  4.5058814e-01],\n",
              "        [-6.6044778e-02, -1.0883768e+00,  3.2401122e-03,  5.9400719e-01],\n",
              "        [ 1.5853953e-01,  7.1498781e-02,  7.6360732e-02, -1.4407731e+00],\n",
              "        [ 9.5582850e-02,  1.8590927e-01,  3.4044746e-01, -2.0072498e+00],\n",
              "        [ 1.2974301e-01,  3.4251649e-02, -7.2238334e-02, -1.0081249e+00],\n",
              "        [-3.4720713e-01,  1.1583588e+00,  3.3003142e-01, -3.4605286e-01],\n",
              "        [-7.6839417e-01,  1.1713927e+00, -1.8801914e+00, -9.7404015e-01],\n",
              "        [ 1.0897895e-01, -7.3911732e-01,  4.5864856e-01, -1.0213819e+00],\n",
              "        [-2.2766378e+00, -4.9840349e-01,  2.0014901e+00, -8.8326406e-01],\n",
              "        [-1.5917334e-01, -1.1449049e+00,  4.0057895e-01, -2.1801567e-01],\n",
              "        [ 2.5889635e-02, -6.0196321e-02,  1.0014061e-01, -2.7493944e+00],\n",
              "        [ 4.2350197e-01, -1.1484920e+00,  4.1924191e-01, -4.0192459e-02],\n",
              "        [-3.9180678e-01, -3.3581468e-01,  1.0814304e-01,  8.9887816e-01],\n",
              "        [ 7.5973213e-01, -2.4666700e-01, -2.3776493e+00, -4.0980384e-01],\n",
              "        [ 2.9243115e-01, -1.2090867e+00,  4.1135371e-02,  3.8203308e-01],\n",
              "        [ 4.2899200e-01,  1.3069317e-02, -1.1726410e+00, -4.0794906e-01],\n",
              "        [-4.6761689e-01,  8.0941439e-01,  2.8969666e-01, -2.4115178e-01],\n",
              "        [ 9.0043239e-02, -7.6134384e-01,  3.2879740e-02, -3.9884704e-01],\n",
              "        [-3.5297698e-01, -3.2596469e-01,  8.5974164e-02,  8.5048348e-01],\n",
              "        [ 6.1675489e-01,  5.9111053e-01, -1.9335061e+00, -4.0753886e-01],\n",
              "        [ 2.9236123e-01, -1.7679534e+00, -4.0295911e-01,  5.5771458e-01],\n",
              "        [ 3.6986291e-01,  1.1557986e-01, -3.4710261e-01, -1.0214521e+00],\n",
              "        [-2.9232088e-01, -1.1939814e+00,  7.8722608e-01,  2.9370654e-01],\n",
              "        [ 8.5978262e-02,  2.2361027e-01, -4.3227977e-01,  3.9118862e-01],\n",
              "        [ 1.3175565e-01,  1.4100984e-01, -1.5229739e+00,  6.1485690e-01],\n",
              "        [ 4.7822502e-01, -1.0854831e+00,  8.2531536e-01, -6.8621379e-01],\n",
              "        [ 6.4678764e-01, -9.1770983e-01, -7.6046181e-01,  6.1546093e-01],\n",
              "        [-4.7545189e-01,  1.4978126e-01,  2.2163916e-01, -4.6071133e-01],\n",
              "        [ 1.0436590e-01,  3.0877078e-01, -3.2712132e-01,  1.8221858e-01],\n",
              "        [ 2.2474012e-01,  1.6266464e-01, -1.7418793e+00,  2.0712921e-01],\n",
              "        [ 4.2993981e-02, -7.7695066e-01,  8.1059158e-02,  2.9481512e-01],\n",
              "        [-1.5367861e+00,  1.0994234e-01,  7.8087616e-01,  5.8692533e-01],\n",
              "        [ 4.7640571e-01, -3.8890532e-01, -6.7139709e-01, -2.2829154e-01],\n",
              "        [-2.2991592e-01, -1.0154036e+00, -4.8585925e-01,  1.6583363e+00],\n",
              "        [ 8.2480538e-01, -5.2679670e-01, -7.8145385e-01, -1.3872733e+00],\n",
              "        [-8.7389368e-01, -3.8045892e-01,  9.8940325e-01,  6.8995565e-01],\n",
              "        [ 6.2764889e-01, -2.2089150e+00, -1.8159924e-01,  9.0552288e-01],\n",
              "        [ 8.9505717e-02, -6.7157477e-01,  1.1101059e-01,  4.0216154e-01],\n",
              "        [-1.9688178e+00,  6.7062187e-01, -1.3173087e-01,  1.4590454e+00],\n",
              "        [ 1.3575689e-01,  2.7059570e-01, -1.5745296e+00, -1.2819606e+00],\n",
              "        [-4.7140259e-02,  3.5462689e-01, -1.1180235e+00, -4.0274303e-02],\n",
              "        [ 1.2732953e-01,  1.9082019e-01, -3.1563175e+00,  1.3096008e-01],\n",
              "        [ 7.5876343e-01, -8.3227098e-01,  5.4241133e-01, -2.9899269e-01],\n",
              "        [-7.3900312e-01,  1.1812199e+00, -2.7202523e-01, -2.8713459e-01],\n",
              "        [ 3.3533495e-02, -1.9518844e+00,  1.5268368e-01, -3.8959064e-02],\n",
              "        [ 1.9276713e-01,  7.0790142e-01, -6.6005677e-01, -3.0366805e+00],\n",
              "        [-6.3958001e-01,  4.9957642e-01, -1.8320133e-01,  3.9798653e-01],\n",
              "        [-5.6503391e-01,  1.8169883e-01,  4.0539324e-02, -5.3160954e-01],\n",
              "        [-5.4403001e-01, -5.8623481e-01,  6.1042511e-01,  3.9859390e-01],\n",
              "        [-6.7985082e+00,  1.5630399e+00,  1.0703970e+00, -5.2437725e+00],\n",
              "        [-4.2515188e-01,  2.6923499e-01, -8.1991978e-02,  3.4867129e-01],\n",
              "        [ 6.8331420e-01, -3.9455327e-01, -3.5584897e-01, -1.2847502e+00],\n",
              "        [ 1.6483249e-01,  3.3383474e-01, -2.9346156e+00,  1.4019586e-02],\n",
              "        [ 3.1448609e-01, -2.4075544e+00, -1.5982883e-01,  1.1920532e+00],\n",
              "        [ 1.2635978e-01, -1.5406521e-01, -9.7181633e-02, -1.4739081e+00],\n",
              "        [-2.1255515e+00, -1.9319856e-01,  1.0542586e+00,  1.3245779e+00]],\n",
              "       dtype=float32),\n",
              " array([ 0.5012388 , -0.03268732, -0.4671277 , -0.3882476 ], dtype=float32)]"
            ]
          },
          "metadata": {},
          "execution_count": 84
        }
      ]
    },
    {
      "cell_type": "code",
      "source": [
        "Classifier.save('Model.h5')"
      ],
      "metadata": {
        "id": "5GrgdQxSi14A"
      },
      "execution_count": 85,
      "outputs": []
    }
  ]
}

#This is sample
